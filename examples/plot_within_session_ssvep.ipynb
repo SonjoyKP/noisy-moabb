{
  "cells": [
    {
      "cell_type": "code",
      "execution_count": 1,
      "metadata": {
        "collapsed": false
      },
      "outputs": [],
      "source": [
        "%matplotlib inline"
      ]
    },
    {
      "cell_type": "markdown",
      "metadata": {},
      "source": [
        "\n",
        "# Within Session SSVEP\n",
        "\n",
        "This Example show how to perform a within-session SSVEP analysis on the\n",
        "MAMEM dataset 3, using a CCA pipeline.\n",
        "\n",
        "The within-session evaluation assesses the performance of a classification\n",
        "pipeline using a 5-fold cross-validation. The reported metric (here, accuracy)\n",
        "is the average of all fold.\n"
      ]
    },
    {
      "cell_type": "code",
      "execution_count": 2,
      "metadata": {
        "collapsed": false
      },
      "outputs": [],
      "source": [
        "# Authors: Sylvain Chevallier <sylvain.chevallier@uvsq.fr>\n",
        "#\n",
        "# License: BSD (3-clause)\n",
        "\n",
        "import warnings\n",
        "\n",
        "import matplotlib.pyplot as plt\n",
        "import seaborn as sns\n",
        "from sklearn.pipeline import make_pipeline\n",
        "\n",
        "import moabb\n",
        "from moabb.datasets import MAMEM3\n",
        "from moabb.evaluations import WithinSessionEvaluation\n",
        "from moabb.paradigms import SSVEP\n",
        "from moabb.pipelines import SSVEP_CCA\n",
        "\n",
        "\n",
        "warnings.simplefilter(action=\"ignore\", category=FutureWarning)\n",
        "warnings.simplefilter(action=\"ignore\", category=RuntimeWarning)\n",
        "moabb.set_log_level(\"info\")"
      ]
    },
    {
      "cell_type": "markdown",
      "metadata": {},
      "source": [
        "## Loading Dataset\n",
        "\n",
        "Load 2 subjects of MAMEM3 dataset\n",
        "\n"
      ]
    },
    {
      "cell_type": "code",
      "execution_count": 3,
      "metadata": {
        "collapsed": false
      },
      "outputs": [],
      "source": [
        "#subj = [1, 3]\n",
        "dataset = MAMEM3()\n",
        "#dataset.subject_list = subj\n",
        "dataset.allow_add_noise()\n",
        "\n",
        "#raw = dataset.get_data()[1]['0']['0']"
      ]
    },
    {
      "cell_type": "markdown",
      "metadata": {},
      "source": [
        "## Choose Paradigm\n",
        "\n",
        "We select the paradigm SSVEP, applying a bandpass filter (3-15 Hz) on\n",
        "the data and we keep only the first 3 classes, that is stimulation\n",
        "frequency of 6.66, 7.50 and 8.57 Hz.\n",
        "\n"
      ]
    },
    {
      "cell_type": "code",
      "execution_count": 4,
      "metadata": {
        "collapsed": false
      },
      "outputs": [
        {
          "name": "stderr",
          "output_type": "stream",
          "text": [
            "2024-07-25 22:25:34,965 WARNING MainThread moabb.paradigms.ssvep Choosing the first 3 classes from all possible events\n"
          ]
        }
      ],
      "source": [
        "paradigm = SSVEP(fmin=3, fmax=15, n_classes=3)"
      ]
    },
    {
      "cell_type": "markdown",
      "metadata": {},
      "source": [
        "## Create Pipelines\n",
        "\n",
        "Use a Canonical Correlation Analysis classifier\n",
        "\n"
      ]
    },
    {
      "cell_type": "code",
      "execution_count": 5,
      "metadata": {
        "collapsed": false
      },
      "outputs": [],
      "source": [
        "interval = dataset.interval\n",
        "freqs = paradigm.used_events(dataset)\n",
        "\n",
        "pipeline = {}\n",
        "pipeline[\"CCA\"] = make_pipeline(SSVEP_CCA(interval=interval, freqs=freqs, n_harmonics=3))"
      ]
    },
    {
      "cell_type": "markdown",
      "metadata": {},
      "source": [
        "## Get Data (optional)\n",
        "\n",
        "To get access to the EEG signals downloaded from the dataset, you could\n",
        "use `dataset.get_data(subjects=[subject_id])` to obtain the EEG under\n",
        "MNE format, stored in a dictionary of sessions and runs.\n",
        "Otherwise, `paradigm.get_data(dataset=dataset, subjects=[subject_id])`\n",
        "allows to obtain the EEG data in scikit format, the labels and the meta\n",
        "information. In `paradigm.get_data`, the EEG are preprocessed according\n",
        "to the paradigm requirement.\n",
        "\n"
      ]
    },
    {
      "cell_type": "code",
      "execution_count": 6,
      "metadata": {
        "collapsed": false
      },
      "outputs": [],
      "source": [
        "# sessions = dataset.get_data(subjects=[3])\n",
        "# X, labels, meta = paradigm.get_data(dataset=dataset, subjects=[3])"
      ]
    },
    {
      "cell_type": "markdown",
      "metadata": {},
      "source": [
        "## Evaluation\n",
        "\n",
        "The evaluation will return a DataFrame containing a single AUC score for\n",
        "each subject and pipeline.\n",
        "\n"
      ]
    },
    {
      "cell_type": "code",
      "execution_count": 7,
      "metadata": {
        "collapsed": false
      },
      "outputs": [
        {
          "name": "stderr",
          "output_type": "stream",
          "text": [
            "2024-07-25 22:25:35,095 INFO MainThread moabb.evaluations.base Processing dataset: MAMEM3\n",
            "MAMEM3-WithinSession:   0%|          | 0/10 [00:00<?, ?it/s]/Users/skpaul/Library/Python/3.9/lib/python/site-packages/moabb/datasets/preprocessing.py:279: UserWarning: warnEpochs <Epochs |  6 events (all good), 1 – 4 s, baseline off, ~278 kB, data loaded,\n",
            " '6.66': 2\n",
            " '7.50': 2\n",
            " '8.57': 2>\n",
            "  warn(f\"warnEpochs {epochs}\")\n",
            "/Users/skpaul/Library/Python/3.9/lib/python/site-packages/moabb/datasets/preprocessing.py:279: UserWarning: warnEpochs <Epochs |  5 events (all good), 1 – 4 s, baseline off, ~236 kB, data loaded,\n",
            " '6.66': 2\n",
            " '7.50': 0\n",
            " '8.57': 3>\n",
            "  warn(f\"warnEpochs {epochs}\")\n",
            "/Users/skpaul/Library/Python/3.9/lib/python/site-packages/moabb/datasets/preprocessing.py:279: UserWarning: warnEpochs <Epochs |  5 events (all good), 1 – 4 s, baseline off, ~236 kB, data loaded,\n",
            " '6.66': 2\n",
            " '7.50': 1\n",
            " '8.57': 2>\n",
            "  warn(f\"warnEpochs {epochs}\")\n",
            "/Users/skpaul/Library/Python/3.9/lib/python/site-packages/moabb/datasets/preprocessing.py:279: UserWarning: warnEpochs <Epochs |  5 events (all good), 1 – 4 s, baseline off, ~236 kB, data loaded,\n",
            " '6.66': 0\n",
            " '7.50': 2\n",
            " '8.57': 3>\n",
            "  warn(f\"warnEpochs {epochs}\")\n",
            "/Users/skpaul/Library/Python/3.9/lib/python/site-packages/moabb/datasets/preprocessing.py:279: UserWarning: warnEpochs <Epochs |  7 events (all good), 1 – 4 s, baseline off, ~320 kB, data loaded,\n",
            " '6.66': 2\n",
            " '7.50': 1\n",
            " '8.57': 4>\n",
            "  warn(f\"warnEpochs {epochs}\")\n",
            "/Users/skpaul/Library/Python/3.9/lib/python/site-packages/moabb/datasets/preprocessing.py:279: UserWarning: warnEpochs <Epochs |  7 events (all good), 1 – 4 s, baseline off, ~320 kB, data loaded,\n",
            " '6.66': 0\n",
            " '7.50': 3\n",
            " '8.57': 4>\n",
            "  warn(f\"warnEpochs {epochs}\")\n",
            "/Users/skpaul/Library/Python/3.9/lib/python/site-packages/moabb/datasets/preprocessing.py:279: UserWarning: warnEpochs <Epochs |  5 events (all good), 1 – 4 s, baseline off, ~236 kB, data loaded,\n",
            " '6.66': 1\n",
            " '7.50': 3\n",
            " '8.57': 1>\n",
            "  warn(f\"warnEpochs {epochs}\")\n",
            "/Users/skpaul/Library/Python/3.9/lib/python/site-packages/moabb/datasets/preprocessing.py:279: UserWarning: warnEpochs <Epochs |  4 events (all good), 1 – 4 s, baseline off, ~194 kB, data loaded,\n",
            " '6.66': 1\n",
            " '7.50': 2\n",
            " '8.57': 1>\n",
            "  warn(f\"warnEpochs {epochs}\")\n",
            "/Users/skpaul/Library/Python/3.9/lib/python/site-packages/moabb/datasets/preprocessing.py:279: UserWarning: warnEpochs <Epochs |  6 events (all good), 1 – 4 s, baseline off, ~278 kB, data loaded,\n",
            " '6.66': 1\n",
            " '7.50': 3\n",
            " '8.57': 2>\n",
            "  warn(f\"warnEpochs {epochs}\")\n",
            "/Users/skpaul/Library/Python/3.9/lib/python/site-packages/moabb/datasets/preprocessing.py:279: UserWarning: warnEpochs <Epochs |  4 events (all good), 1 – 4 s, baseline off, ~194 kB, data loaded,\n",
            " '6.66': 0\n",
            " '7.50': 1\n",
            " '8.57': 3>\n",
            "  warn(f\"warnEpochs {epochs}\")\n",
            "2024-07-25 22:25:36,943 INFO MainThread moabb.evaluations.base CCA | MAMEM3 | 1 | 0: Score 0.353\n"
          ]
        },
        {
          "name": "stdout",
          "output_type": "stream",
          "text": [
            "No hdf5_path provided, models will not be saved.\n"
          ]
        },
        {
          "name": "stderr",
          "output_type": "stream",
          "text": [
            "MAMEM3-WithinSession:  10%|█         | 1/10 [00:01<00:17,  1.91s/it]/Users/skpaul/Library/Python/3.9/lib/python/site-packages/moabb/datasets/preprocessing.py:279: UserWarning: warnEpochs <Epochs |  6 events (all good), 1 – 4 s, baseline off, ~278 kB, data loaded,\n",
            " '6.66': 1\n",
            " '7.50': 3\n",
            " '8.57': 2>\n",
            "  warn(f\"warnEpochs {epochs}\")\n",
            "/Users/skpaul/Library/Python/3.9/lib/python/site-packages/moabb/datasets/preprocessing.py:279: UserWarning: warnEpochs <Epochs |  5 events (all good), 1 – 4 s, baseline off, ~236 kB, data loaded,\n",
            " '6.66': 1\n",
            " '7.50': 1\n",
            " '8.57': 3>\n",
            "  warn(f\"warnEpochs {epochs}\")\n",
            "/Users/skpaul/Library/Python/3.9/lib/python/site-packages/moabb/datasets/preprocessing.py:279: UserWarning: warnEpochs <Epochs |  7 events (all good), 1 – 4 s, baseline off, ~320 kB, data loaded,\n",
            " '6.66': 1\n",
            " '7.50': 3\n",
            " '8.57': 3>\n",
            "  warn(f\"warnEpochs {epochs}\")\n",
            "/Users/skpaul/Library/Python/3.9/lib/python/site-packages/moabb/datasets/preprocessing.py:279: UserWarning: warnEpochs <Epochs |  7 events (all good), 1 – 4 s, baseline off, ~320 kB, data loaded,\n",
            " '6.66': 0\n",
            " '7.50': 3\n",
            " '8.57': 4>\n",
            "  warn(f\"warnEpochs {epochs}\")\n",
            "/Users/skpaul/Library/Python/3.9/lib/python/site-packages/moabb/datasets/preprocessing.py:279: UserWarning: warnEpochs <Epochs |  5 events (all good), 1 – 4 s, baseline off, ~236 kB, data loaded,\n",
            " '6.66': 1\n",
            " '7.50': 3\n",
            " '8.57': 1>\n",
            "  warn(f\"warnEpochs {epochs}\")\n",
            "/Users/skpaul/Library/Python/3.9/lib/python/site-packages/moabb/datasets/preprocessing.py:279: UserWarning: warnEpochs <Epochs |  4 events (all good), 1 – 4 s, baseline off, ~194 kB, data loaded,\n",
            " '6.66': 1\n",
            " '7.50': 2\n",
            " '8.57': 1>\n",
            "  warn(f\"warnEpochs {epochs}\")\n",
            "/Users/skpaul/Library/Python/3.9/lib/python/site-packages/moabb/datasets/preprocessing.py:279: UserWarning: warnEpochs <Epochs |  5 events (all good), 1 – 4 s, baseline off, ~236 kB, data loaded,\n",
            " '6.66': 1\n",
            " '7.50': 2\n",
            " '8.57': 2>\n",
            "  warn(f\"warnEpochs {epochs}\")\n",
            "/Users/skpaul/Library/Python/3.9/lib/python/site-packages/moabb/datasets/preprocessing.py:279: UserWarning: warnEpochs <Epochs |  6 events (all good), 1 – 4 s, baseline off, ~278 kB, data loaded,\n",
            " '6.66': 0\n",
            " '7.50': 4\n",
            " '8.57': 2>\n",
            "  warn(f\"warnEpochs {epochs}\")\n",
            "/Users/skpaul/Library/Python/3.9/lib/python/site-packages/moabb/datasets/preprocessing.py:279: UserWarning: warnEpochs <Epochs |  5 events (all good), 1 – 4 s, baseline off, ~236 kB, data loaded,\n",
            " '6.66': 2\n",
            " '7.50': 1\n",
            " '8.57': 2>\n",
            "  warn(f\"warnEpochs {epochs}\")\n",
            "/Users/skpaul/Library/Python/3.9/lib/python/site-packages/moabb/datasets/preprocessing.py:279: UserWarning: warnEpochs <Epochs |  8 events (all good), 1 – 4 s, baseline off, ~362 kB, data loaded,\n",
            " '6.66': 1\n",
            " '7.50': 2\n",
            " '8.57': 5>\n",
            "  warn(f\"warnEpochs {epochs}\")\n",
            "2024-07-25 22:25:38,837 INFO MainThread moabb.evaluations.base CCA | MAMEM3 | 2 | 0: Score 0.511\n"
          ]
        },
        {
          "name": "stdout",
          "output_type": "stream",
          "text": [
            "No hdf5_path provided, models will not be saved.\n"
          ]
        },
        {
          "name": "stderr",
          "output_type": "stream",
          "text": [
            "MAMEM3-WithinSession:  20%|██        | 2/10 [00:03<00:15,  1.90s/it]/Users/skpaul/Library/Python/3.9/lib/python/site-packages/moabb/datasets/preprocessing.py:279: UserWarning: warnEpochs <Epochs |  7 events (all good), 1 – 4 s, baseline off, ~320 kB, data loaded,\n",
            " '6.66': 1\n",
            " '7.50': 3\n",
            " '8.57': 3>\n",
            "  warn(f\"warnEpochs {epochs}\")\n",
            "/Users/skpaul/Library/Python/3.9/lib/python/site-packages/moabb/datasets/preprocessing.py:279: UserWarning: warnEpochs <Epochs |  6 events (all good), 1 – 4 s, baseline off, ~278 kB, data loaded,\n",
            " '6.66': 0\n",
            " '7.50': 3\n",
            " '8.57': 3>\n",
            "  warn(f\"warnEpochs {epochs}\")\n",
            "/Users/skpaul/Library/Python/3.9/lib/python/site-packages/moabb/datasets/preprocessing.py:279: UserWarning: warnEpochs <Epochs |  6 events (all good), 1 – 4 s, baseline off, ~278 kB, data loaded,\n",
            " '6.66': 1\n",
            " '7.50': 2\n",
            " '8.57': 3>\n",
            "  warn(f\"warnEpochs {epochs}\")\n",
            "/Users/skpaul/Library/Python/3.9/lib/python/site-packages/moabb/datasets/preprocessing.py:279: UserWarning: warnEpochs <Epochs |  6 events (all good), 1 – 4 s, baseline off, ~278 kB, data loaded,\n",
            " '6.66': 0\n",
            " '7.50': 2\n",
            " '8.57': 4>\n",
            "  warn(f\"warnEpochs {epochs}\")\n",
            "/Users/skpaul/Library/Python/3.9/lib/python/site-packages/moabb/datasets/preprocessing.py:279: UserWarning: warnEpochs <Epochs |  5 events (all good), 1 – 4 s, baseline off, ~236 kB, data loaded,\n",
            " '6.66': 3\n",
            " '7.50': 2\n",
            " '8.57': 0>\n",
            "  warn(f\"warnEpochs {epochs}\")\n",
            "/Users/skpaul/Library/Python/3.9/lib/python/site-packages/moabb/datasets/preprocessing.py:279: UserWarning: warnEpochs <Epochs |  6 events (all good), 1 – 4 s, baseline off, ~278 kB, data loaded,\n",
            " '6.66': 1\n",
            " '7.50': 3\n",
            " '8.57': 2>\n",
            "  warn(f\"warnEpochs {epochs}\")\n",
            "/Users/skpaul/Library/Python/3.9/lib/python/site-packages/moabb/datasets/preprocessing.py:279: UserWarning: warnEpochs <Epochs |  6 events (all good), 1 – 4 s, baseline off, ~278 kB, data loaded,\n",
            " '6.66': 0\n",
            " '7.50': 5\n",
            " '8.57': 1>\n",
            "  warn(f\"warnEpochs {epochs}\")\n",
            "/Users/skpaul/Library/Python/3.9/lib/python/site-packages/moabb/datasets/preprocessing.py:279: UserWarning: warnEpochs <Epochs |  6 events (all good), 1 – 4 s, baseline off, ~278 kB, data loaded,\n",
            " '6.66': 1\n",
            " '7.50': 0\n",
            " '8.57': 5>\n",
            "  warn(f\"warnEpochs {epochs}\")\n",
            "/Users/skpaul/Library/Python/3.9/lib/python/site-packages/moabb/datasets/preprocessing.py:279: UserWarning: warnEpochs <Epochs |  6 events (all good), 1 – 4 s, baseline off, ~278 kB, data loaded,\n",
            " '6.66': 1\n",
            " '7.50': 3\n",
            " '8.57': 2>\n",
            "  warn(f\"warnEpochs {epochs}\")\n",
            "/Users/skpaul/Library/Python/3.9/lib/python/site-packages/moabb/datasets/preprocessing.py:279: UserWarning: warnEpochs <Epochs |  7 events (all good), 1 – 4 s, baseline off, ~320 kB, data loaded,\n",
            " '6.66': 1\n",
            " '7.50': 1\n",
            " '8.57': 5>\n",
            "  warn(f\"warnEpochs {epochs}\")\n",
            "2024-07-25 22:25:41,042 INFO MainThread moabb.evaluations.base CCA | MAMEM3 | 3 | 0: Score 0.363\n"
          ]
        },
        {
          "name": "stdout",
          "output_type": "stream",
          "text": [
            "No hdf5_path provided, models will not be saved.\n"
          ]
        },
        {
          "name": "stderr",
          "output_type": "stream",
          "text": [
            "MAMEM3-WithinSession:  30%|███       | 3/10 [00:06<00:14,  2.04s/it]/Users/skpaul/Library/Python/3.9/lib/python/site-packages/moabb/datasets/preprocessing.py:279: UserWarning: warnEpochs <Epochs |  6 events (all good), 1 – 4 s, baseline off, ~278 kB, data loaded,\n",
            " '6.66': 1\n",
            " '7.50': 3\n",
            " '8.57': 2>\n",
            "  warn(f\"warnEpochs {epochs}\")\n",
            "/Users/skpaul/Library/Python/3.9/lib/python/site-packages/moabb/datasets/preprocessing.py:279: UserWarning: warnEpochs <Epochs |  6 events (all good), 1 – 4 s, baseline off, ~278 kB, data loaded,\n",
            " '6.66': 1\n",
            " '7.50': 2\n",
            " '8.57': 3>\n",
            "  warn(f\"warnEpochs {epochs}\")\n",
            "/Users/skpaul/Library/Python/3.9/lib/python/site-packages/moabb/datasets/preprocessing.py:279: UserWarning: warnEpochs <Epochs |  5 events (all good), 1 – 4 s, baseline off, ~236 kB, data loaded,\n",
            " '6.66': 1\n",
            " '7.50': 3\n",
            " '8.57': 1>\n",
            "  warn(f\"warnEpochs {epochs}\")\n",
            "/Users/skpaul/Library/Python/3.9/lib/python/site-packages/moabb/datasets/preprocessing.py:279: UserWarning: warnEpochs <Epochs |  6 events (all good), 1 – 4 s, baseline off, ~278 kB, data loaded,\n",
            " '6.66': 1\n",
            " '7.50': 0\n",
            " '8.57': 5>\n",
            "  warn(f\"warnEpochs {epochs}\")\n",
            "/Users/skpaul/Library/Python/3.9/lib/python/site-packages/moabb/datasets/preprocessing.py:279: UserWarning: warnEpochs <Epochs |  5 events (all good), 1 – 4 s, baseline off, ~236 kB, data loaded,\n",
            " '6.66': 1\n",
            " '7.50': 3\n",
            " '8.57': 1>\n",
            "  warn(f\"warnEpochs {epochs}\")\n",
            "/Users/skpaul/Library/Python/3.9/lib/python/site-packages/moabb/datasets/preprocessing.py:279: UserWarning: warnEpochs <Epochs |  5 events (all good), 1 – 4 s, baseline off, ~236 kB, data loaded,\n",
            " '6.66': 1\n",
            " '7.50': 2\n",
            " '8.57': 2>\n",
            "  warn(f\"warnEpochs {epochs}\")\n",
            "/Users/skpaul/Library/Python/3.9/lib/python/site-packages/moabb/datasets/preprocessing.py:279: UserWarning: warnEpochs <Epochs |  6 events (all good), 1 – 4 s, baseline off, ~278 kB, data loaded,\n",
            " '6.66': 2\n",
            " '7.50': 3\n",
            " '8.57': 1>\n",
            "  warn(f\"warnEpochs {epochs}\")\n",
            "/Users/skpaul/Library/Python/3.9/lib/python/site-packages/moabb/datasets/preprocessing.py:279: UserWarning: warnEpochs <Epochs |  7 events (all good), 1 – 4 s, baseline off, ~320 kB, data loaded,\n",
            " '6.66': 1\n",
            " '7.50': 2\n",
            " '8.57': 4>\n",
            "  warn(f\"warnEpochs {epochs}\")\n",
            "/Users/skpaul/Library/Python/3.9/lib/python/site-packages/moabb/datasets/preprocessing.py:279: UserWarning: warnEpochs <Epochs |  7 events (all good), 1 – 4 s, baseline off, ~320 kB, data loaded,\n",
            " '6.66': 2\n",
            " '7.50': 2\n",
            " '8.57': 3>\n",
            "  warn(f\"warnEpochs {epochs}\")\n",
            "/Users/skpaul/Library/Python/3.9/lib/python/site-packages/moabb/datasets/preprocessing.py:279: UserWarning: warnEpochs <Epochs |  6 events (all good), 1 – 4 s, baseline off, ~278 kB, data loaded,\n",
            " '6.66': 0\n",
            " '7.50': 3\n",
            " '8.57': 3>\n",
            "  warn(f\"warnEpochs {epochs}\")\n",
            "2024-07-25 22:25:42,975 INFO MainThread moabb.evaluations.base CCA | MAMEM3 | 4 | 0: Score 0.403\n"
          ]
        },
        {
          "name": "stdout",
          "output_type": "stream",
          "text": [
            "No hdf5_path provided, models will not be saved.\n"
          ]
        },
        {
          "name": "stderr",
          "output_type": "stream",
          "text": [
            "MAMEM3-WithinSession:  40%|████      | 4/10 [00:07<00:11,  2.00s/it]/Users/skpaul/Library/Python/3.9/lib/python/site-packages/moabb/datasets/preprocessing.py:279: UserWarning: warnEpochs <Epochs |  7 events (all good), 1 – 4 s, baseline off, ~320 kB, data loaded,\n",
            " '6.66': 1\n",
            " '7.50': 4\n",
            " '8.57': 2>\n",
            "  warn(f\"warnEpochs {epochs}\")\n",
            "/Users/skpaul/Library/Python/3.9/lib/python/site-packages/moabb/datasets/preprocessing.py:279: UserWarning: warnEpochs <Epochs |  6 events (all good), 1 – 4 s, baseline off, ~278 kB, data loaded,\n",
            " '6.66': 0\n",
            " '7.50': 4\n",
            " '8.57': 2>\n",
            "  warn(f\"warnEpochs {epochs}\")\n",
            "/Users/skpaul/Library/Python/3.9/lib/python/site-packages/moabb/datasets/preprocessing.py:279: UserWarning: warnEpochs <Epochs |  6 events (all good), 1 – 4 s, baseline off, ~278 kB, data loaded,\n",
            " '6.66': 3\n",
            " '7.50': 1\n",
            " '8.57': 2>\n",
            "  warn(f\"warnEpochs {epochs}\")\n",
            "/Users/skpaul/Library/Python/3.9/lib/python/site-packages/moabb/datasets/preprocessing.py:279: UserWarning: warnEpochs <Epochs |  6 events (all good), 1 – 4 s, baseline off, ~278 kB, data loaded,\n",
            " '6.66': 1\n",
            " '7.50': 1\n",
            " '8.57': 4>\n",
            "  warn(f\"warnEpochs {epochs}\")\n",
            "/Users/skpaul/Library/Python/3.9/lib/python/site-packages/moabb/datasets/preprocessing.py:279: UserWarning: warnEpochs <Epochs |  6 events (all good), 1 – 4 s, baseline off, ~278 kB, data loaded,\n",
            " '6.66': 2\n",
            " '7.50': 3\n",
            " '8.57': 1>\n",
            "  warn(f\"warnEpochs {epochs}\")\n",
            "/Users/skpaul/Library/Python/3.9/lib/python/site-packages/moabb/datasets/preprocessing.py:279: UserWarning: warnEpochs <Epochs |  4 events (all good), 1 – 4 s, baseline off, ~194 kB, data loaded,\n",
            " '6.66': 0\n",
            " '7.50': 3\n",
            " '8.57': 1>\n",
            "  warn(f\"warnEpochs {epochs}\")\n",
            "/Users/skpaul/Library/Python/3.9/lib/python/site-packages/moabb/datasets/preprocessing.py:279: UserWarning: warnEpochs <Epochs |  8 events (all good), 1 – 4 s, baseline off, ~362 kB, data loaded,\n",
            " '6.66': 1\n",
            " '7.50': 3\n",
            " '8.57': 4>\n",
            "  warn(f\"warnEpochs {epochs}\")\n",
            "/Users/skpaul/Library/Python/3.9/lib/python/site-packages/moabb/datasets/preprocessing.py:279: UserWarning: warnEpochs <Epochs |  7 events (all good), 1 – 4 s, baseline off, ~320 kB, data loaded,\n",
            " '6.66': 0\n",
            " '7.50': 3\n",
            " '8.57': 4>\n",
            "  warn(f\"warnEpochs {epochs}\")\n",
            "/Users/skpaul/Library/Python/3.9/lib/python/site-packages/moabb/datasets/preprocessing.py:279: UserWarning: warnEpochs <Epochs |  5 events (all good), 1 – 4 s, baseline off, ~236 kB, data loaded,\n",
            " '6.66': 1\n",
            " '7.50': 1\n",
            " '8.57': 3>\n",
            "  warn(f\"warnEpochs {epochs}\")\n",
            "/Users/skpaul/Library/Python/3.9/lib/python/site-packages/moabb/datasets/preprocessing.py:279: UserWarning: warnEpochs <Epochs |  7 events (all good), 1 – 4 s, baseline off, ~320 kB, data loaded,\n",
            " '6.66': 2\n",
            " '7.50': 2\n",
            " '8.57': 3>\n",
            "  warn(f\"warnEpochs {epochs}\")\n",
            "2024-07-25 22:25:45,079 INFO MainThread moabb.evaluations.base CCA | MAMEM3 | 5 | 0: Score 0.369\n"
          ]
        },
        {
          "name": "stdout",
          "output_type": "stream",
          "text": [
            "No hdf5_path provided, models will not be saved.\n"
          ]
        },
        {
          "name": "stderr",
          "output_type": "stream",
          "text": [
            "MAMEM3-WithinSession:  50%|█████     | 5/10 [00:10<00:10,  2.03s/it]/Users/skpaul/Library/Python/3.9/lib/python/site-packages/moabb/datasets/preprocessing.py:279: UserWarning: warnEpochs <Epochs |  6 events (all good), 1 – 4 s, baseline off, ~278 kB, data loaded,\n",
            " '6.66': 1\n",
            " '7.50': 2\n",
            " '8.57': 3>\n",
            "  warn(f\"warnEpochs {epochs}\")\n",
            "/Users/skpaul/Library/Python/3.9/lib/python/site-packages/moabb/datasets/preprocessing.py:279: UserWarning: warnEpochs <Epochs |  6 events (all good), 1 – 4 s, baseline off, ~278 kB, data loaded,\n",
            " '6.66': 0\n",
            " '7.50': 4\n",
            " '8.57': 2>\n",
            "  warn(f\"warnEpochs {epochs}\")\n",
            "/Users/skpaul/Library/Python/3.9/lib/python/site-packages/moabb/datasets/preprocessing.py:279: UserWarning: warnEpochs <Epochs |  6 events (all good), 1 – 4 s, baseline off, ~278 kB, data loaded,\n",
            " '6.66': 1\n",
            " '7.50': 3\n",
            " '8.57': 2>\n",
            "  warn(f\"warnEpochs {epochs}\")\n",
            "/Users/skpaul/Library/Python/3.9/lib/python/site-packages/moabb/datasets/preprocessing.py:279: UserWarning: warnEpochs <Epochs |  5 events (all good), 1 – 4 s, baseline off, ~236 kB, data loaded,\n",
            " '6.66': 0\n",
            " '7.50': 1\n",
            " '8.57': 4>\n",
            "  warn(f\"warnEpochs {epochs}\")\n",
            "/Users/skpaul/Library/Python/3.9/lib/python/site-packages/moabb/datasets/preprocessing.py:279: UserWarning: warnEpochs <Epochs |  6 events (all good), 1 – 4 s, baseline off, ~278 kB, data loaded,\n",
            " '6.66': 0\n",
            " '7.50': 5\n",
            " '8.57': 1>\n",
            "  warn(f\"warnEpochs {epochs}\")\n",
            "/Users/skpaul/Library/Python/3.9/lib/python/site-packages/moabb/datasets/preprocessing.py:279: UserWarning: warnEpochs <Epochs |  6 events (all good), 1 – 4 s, baseline off, ~278 kB, data loaded,\n",
            " '6.66': 1\n",
            " '7.50': 3\n",
            " '8.57': 2>\n",
            "  warn(f\"warnEpochs {epochs}\")\n",
            "/Users/skpaul/Library/Python/3.9/lib/python/site-packages/moabb/datasets/preprocessing.py:279: UserWarning: warnEpochs <Epochs |  5 events (all good), 1 – 4 s, baseline off, ~236 kB, data loaded,\n",
            " '6.66': 0\n",
            " '7.50': 3\n",
            " '8.57': 2>\n",
            "  warn(f\"warnEpochs {epochs}\")\n",
            "/Users/skpaul/Library/Python/3.9/lib/python/site-packages/moabb/datasets/preprocessing.py:279: UserWarning: warnEpochs <Epochs |  6 events (all good), 1 – 4 s, baseline off, ~278 kB, data loaded,\n",
            " '6.66': 2\n",
            " '7.50': 2\n",
            " '8.57': 2>\n",
            "  warn(f\"warnEpochs {epochs}\")\n",
            "/Users/skpaul/Library/Python/3.9/lib/python/site-packages/moabb/datasets/preprocessing.py:279: UserWarning: warnEpochs <Epochs |  6 events (all good), 1 – 4 s, baseline off, ~278 kB, data loaded,\n",
            " '6.66': 1\n",
            " '7.50': 4\n",
            " '8.57': 1>\n",
            "  warn(f\"warnEpochs {epochs}\")\n",
            "/Users/skpaul/Library/Python/3.9/lib/python/site-packages/moabb/datasets/preprocessing.py:279: UserWarning: warnEpochs <Epochs |  4 events (all good), 1 – 4 s, baseline off, ~194 kB, data loaded,\n",
            " '6.66': 0\n",
            " '7.50': 1\n",
            " '8.57': 3>\n",
            "  warn(f\"warnEpochs {epochs}\")\n",
            "2024-07-25 22:25:46,995 INFO MainThread moabb.evaluations.base CCA | MAMEM3 | 6 | 0: Score 0.376\n"
          ]
        },
        {
          "name": "stdout",
          "output_type": "stream",
          "text": [
            "No hdf5_path provided, models will not be saved.\n"
          ]
        },
        {
          "name": "stderr",
          "output_type": "stream",
          "text": [
            "MAMEM3-WithinSession:  60%|██████    | 6/10 [00:11<00:07,  1.99s/it]/Users/skpaul/Library/Python/3.9/lib/python/site-packages/moabb/datasets/preprocessing.py:279: UserWarning: warnEpochs <Epochs |  7 events (all good), 1 – 4 s, baseline off, ~320 kB, data loaded,\n",
            " '6.66': 0\n",
            " '7.50': 3\n",
            " '8.57': 4>\n",
            "  warn(f\"warnEpochs {epochs}\")\n",
            "/Users/skpaul/Library/Python/3.9/lib/python/site-packages/moabb/datasets/preprocessing.py:279: UserWarning: warnEpochs <Epochs |  5 events (all good), 1 – 4 s, baseline off, ~236 kB, data loaded,\n",
            " '6.66': 1\n",
            " '7.50': 0\n",
            " '8.57': 4>\n",
            "  warn(f\"warnEpochs {epochs}\")\n",
            "/Users/skpaul/Library/Python/3.9/lib/python/site-packages/moabb/datasets/preprocessing.py:279: UserWarning: warnEpochs <Epochs |  6 events (all good), 1 – 4 s, baseline off, ~278 kB, data loaded,\n",
            " '6.66': 2\n",
            " '7.50': 2\n",
            " '8.57': 2>\n",
            "  warn(f\"warnEpochs {epochs}\")\n",
            "/Users/skpaul/Library/Python/3.9/lib/python/site-packages/moabb/datasets/preprocessing.py:279: UserWarning: warnEpochs <Epochs |  7 events (all good), 1 – 4 s, baseline off, ~320 kB, data loaded,\n",
            " '6.66': 1\n",
            " '7.50': 3\n",
            " '8.57': 3>\n",
            "  warn(f\"warnEpochs {epochs}\")\n",
            "/Users/skpaul/Library/Python/3.9/lib/python/site-packages/moabb/datasets/preprocessing.py:279: UserWarning: warnEpochs <Epochs |  7 events (all good), 1 – 4 s, baseline off, ~320 kB, data loaded,\n",
            " '6.66': 1\n",
            " '7.50': 4\n",
            " '8.57': 2>\n",
            "  warn(f\"warnEpochs {epochs}\")\n",
            "/Users/skpaul/Library/Python/3.9/lib/python/site-packages/moabb/datasets/preprocessing.py:279: UserWarning: warnEpochs <Epochs |  6 events (all good), 1 – 4 s, baseline off, ~278 kB, data loaded,\n",
            " '6.66': 0\n",
            " '7.50': 4\n",
            " '8.57': 2>\n",
            "  warn(f\"warnEpochs {epochs}\")\n",
            "/Users/skpaul/Library/Python/3.9/lib/python/site-packages/moabb/datasets/preprocessing.py:279: UserWarning: warnEpochs <Epochs |  5 events (all good), 1 – 4 s, baseline off, ~236 kB, data loaded,\n",
            " '6.66': 1\n",
            " '7.50': 3\n",
            " '8.57': 1>\n",
            "  warn(f\"warnEpochs {epochs}\")\n",
            "/Users/skpaul/Library/Python/3.9/lib/python/site-packages/moabb/datasets/preprocessing.py:279: UserWarning: warnEpochs <Epochs |  6 events (all good), 1 – 4 s, baseline off, ~278 kB, data loaded,\n",
            " '6.66': 1\n",
            " '7.50': 2\n",
            " '8.57': 3>\n",
            "  warn(f\"warnEpochs {epochs}\")\n",
            "/Users/skpaul/Library/Python/3.9/lib/python/site-packages/moabb/datasets/preprocessing.py:279: UserWarning: warnEpochs <Epochs |  5 events (all good), 1 – 4 s, baseline off, ~236 kB, data loaded,\n",
            " '6.66': 1\n",
            " '7.50': 2\n",
            " '8.57': 2>\n",
            "  warn(f\"warnEpochs {epochs}\")\n",
            "/Users/skpaul/Library/Python/3.9/lib/python/site-packages/moabb/datasets/preprocessing.py:279: UserWarning: warnEpochs <Epochs |  6 events (all good), 1 – 4 s, baseline off, ~278 kB, data loaded,\n",
            " '6.66': 0\n",
            " '7.50': 3\n",
            " '8.57': 3>\n",
            "  warn(f\"warnEpochs {epochs}\")\n",
            "2024-07-25 22:25:48,929 INFO MainThread moabb.evaluations.base CCA | MAMEM3 | 7 | 0: Score 0.283\n"
          ]
        },
        {
          "name": "stdout",
          "output_type": "stream",
          "text": [
            "No hdf5_path provided, models will not be saved.\n"
          ]
        },
        {
          "name": "stderr",
          "output_type": "stream",
          "text": [
            "MAMEM3-WithinSession:  70%|███████   | 7/10 [00:13<00:05,  1.97s/it]/Users/skpaul/Library/Python/3.9/lib/python/site-packages/moabb/datasets/preprocessing.py:279: UserWarning: warnEpochs <Epochs |  7 events (all good), 1 – 4 s, baseline off, ~320 kB, data loaded,\n",
            " '6.66': 2\n",
            " '7.50': 3\n",
            " '8.57': 2>\n",
            "  warn(f\"warnEpochs {epochs}\")\n",
            "/Users/skpaul/Library/Python/3.9/lib/python/site-packages/moabb/datasets/preprocessing.py:279: UserWarning: warnEpochs <Epochs |  6 events (all good), 1 – 4 s, baseline off, ~278 kB, data loaded,\n",
            " '6.66': 1\n",
            " '7.50': 1\n",
            " '8.57': 4>\n",
            "  warn(f\"warnEpochs {epochs}\")\n",
            "/Users/skpaul/Library/Python/3.9/lib/python/site-packages/moabb/datasets/preprocessing.py:279: UserWarning: warnEpochs <Epochs |  6 events (all good), 1 – 4 s, baseline off, ~278 kB, data loaded,\n",
            " '6.66': 1\n",
            " '7.50': 4\n",
            " '8.57': 1>\n",
            "  warn(f\"warnEpochs {epochs}\")\n",
            "/Users/skpaul/Library/Python/3.9/lib/python/site-packages/moabb/datasets/preprocessing.py:279: UserWarning: warnEpochs <Epochs |  6 events (all good), 1 – 4 s, baseline off, ~278 kB, data loaded,\n",
            " '6.66': 0\n",
            " '7.50': 3\n",
            " '8.57': 3>\n",
            "  warn(f\"warnEpochs {epochs}\")\n",
            "/Users/skpaul/Library/Python/3.9/lib/python/site-packages/moabb/datasets/preprocessing.py:279: UserWarning: warnEpochs <Epochs |  7 events (all good), 1 – 4 s, baseline off, ~320 kB, data loaded,\n",
            " '6.66': 1\n",
            " '7.50': 3\n",
            " '8.57': 3>\n",
            "  warn(f\"warnEpochs {epochs}\")\n",
            "/Users/skpaul/Library/Python/3.9/lib/python/site-packages/moabb/datasets/preprocessing.py:279: UserWarning: warnEpochs <Epochs |  5 events (all good), 1 – 4 s, baseline off, ~236 kB, data loaded,\n",
            " '6.66': 0\n",
            " '7.50': 3\n",
            " '8.57': 2>\n",
            "  warn(f\"warnEpochs {epochs}\")\n",
            "/Users/skpaul/Library/Python/3.9/lib/python/site-packages/moabb/datasets/preprocessing.py:279: UserWarning: warnEpochs <Epochs |  4 events (all good), 1 – 4 s, baseline off, ~194 kB, data loaded,\n",
            " '6.66': 0\n",
            " '7.50': 4\n",
            " '8.57': 0>\n",
            "  warn(f\"warnEpochs {epochs}\")\n",
            "/Users/skpaul/Library/Python/3.9/lib/python/site-packages/moabb/datasets/preprocessing.py:279: UserWarning: warnEpochs <Epochs |  7 events (all good), 1 – 4 s, baseline off, ~320 kB, data loaded,\n",
            " '6.66': 1\n",
            " '7.50': 2\n",
            " '8.57': 4>\n",
            "  warn(f\"warnEpochs {epochs}\")\n",
            "/Users/skpaul/Library/Python/3.9/lib/python/site-packages/moabb/datasets/preprocessing.py:279: UserWarning: warnEpochs <Epochs |  5 events (all good), 1 – 4 s, baseline off, ~236 kB, data loaded,\n",
            " '6.66': 2\n",
            " '7.50': 3\n",
            " '8.57': 0>\n",
            "  warn(f\"warnEpochs {epochs}\")\n",
            "/Users/skpaul/Library/Python/3.9/lib/python/site-packages/moabb/datasets/preprocessing.py:279: UserWarning: warnEpochs <Epochs |  5 events (all good), 1 – 4 s, baseline off, ~236 kB, data loaded,\n",
            " '6.66': 1\n",
            " '7.50': 1\n",
            " '8.57': 3>\n",
            "  warn(f\"warnEpochs {epochs}\")\n",
            "2024-07-25 22:25:50,919 INFO MainThread moabb.evaluations.base CCA | MAMEM3 | 8 | 0: Score 0.344\n"
          ]
        },
        {
          "name": "stdout",
          "output_type": "stream",
          "text": [
            "No hdf5_path provided, models will not be saved.\n"
          ]
        },
        {
          "name": "stderr",
          "output_type": "stream",
          "text": [
            "MAMEM3-WithinSession:  80%|████████  | 8/10 [00:15<00:03,  1.98s/it]/Users/skpaul/Library/Python/3.9/lib/python/site-packages/moabb/datasets/preprocessing.py:279: UserWarning: warnEpochs <Epochs |  5 events (all good), 1 – 4 s, baseline off, ~236 kB, data loaded,\n",
            " '6.66': 2\n",
            " '7.50': 3\n",
            " '8.57': 0>\n",
            "  warn(f\"warnEpochs {epochs}\")\n",
            "/Users/skpaul/Library/Python/3.9/lib/python/site-packages/moabb/datasets/preprocessing.py:279: UserWarning: warnEpochs <Epochs |  7 events (all good), 1 – 4 s, baseline off, ~320 kB, data loaded,\n",
            " '6.66': 1\n",
            " '7.50': 2\n",
            " '8.57': 4>\n",
            "  warn(f\"warnEpochs {epochs}\")\n",
            "/Users/skpaul/Library/Python/3.9/lib/python/site-packages/moabb/datasets/preprocessing.py:279: UserWarning: warnEpochs <Epochs |  5 events (all good), 1 – 4 s, baseline off, ~236 kB, data loaded,\n",
            " '6.66': 2\n",
            " '7.50': 1\n",
            " '8.57': 2>\n",
            "  warn(f\"warnEpochs {epochs}\")\n",
            "/Users/skpaul/Library/Python/3.9/lib/python/site-packages/moabb/datasets/preprocessing.py:279: UserWarning: warnEpochs <Epochs |  4 events (all good), 1 – 4 s, baseline off, ~194 kB, data loaded,\n",
            " '6.66': 0\n",
            " '7.50': 1\n",
            " '8.57': 3>\n",
            "  warn(f\"warnEpochs {epochs}\")\n",
            "/Users/skpaul/Library/Python/3.9/lib/python/site-packages/moabb/datasets/preprocessing.py:279: UserWarning: warnEpochs <Epochs |  6 events (all good), 1 – 4 s, baseline off, ~278 kB, data loaded,\n",
            " '6.66': 3\n",
            " '7.50': 1\n",
            " '8.57': 2>\n",
            "  warn(f\"warnEpochs {epochs}\")\n",
            "/Users/skpaul/Library/Python/3.9/lib/python/site-packages/moabb/datasets/preprocessing.py:279: UserWarning: warnEpochs <Epochs |  7 events (all good), 1 – 4 s, baseline off, ~320 kB, data loaded,\n",
            " '6.66': 1\n",
            " '7.50': 2\n",
            " '8.57': 4>\n",
            "  warn(f\"warnEpochs {epochs}\")\n",
            "/Users/skpaul/Library/Python/3.9/lib/python/site-packages/moabb/datasets/preprocessing.py:279: UserWarning: warnEpochs <Epochs |  5 events (all good), 1 – 4 s, baseline off, ~236 kB, data loaded,\n",
            " '6.66': 3\n",
            " '7.50': 1\n",
            " '8.57': 1>\n",
            "  warn(f\"warnEpochs {epochs}\")\n",
            "/Users/skpaul/Library/Python/3.9/lib/python/site-packages/moabb/datasets/preprocessing.py:279: UserWarning: warnEpochs <Epochs |  5 events (all good), 1 – 4 s, baseline off, ~236 kB, data loaded,\n",
            " '6.66': 0\n",
            " '7.50': 2\n",
            " '8.57': 3>\n",
            "  warn(f\"warnEpochs {epochs}\")\n",
            "/Users/skpaul/Library/Python/3.9/lib/python/site-packages/moabb/datasets/preprocessing.py:279: UserWarning: warnEpochs <Epochs |  7 events (all good), 1 – 4 s, baseline off, ~320 kB, data loaded,\n",
            " '6.66': 2\n",
            " '7.50': 2\n",
            " '8.57': 3>\n",
            "  warn(f\"warnEpochs {epochs}\")\n",
            "/Users/skpaul/Library/Python/3.9/lib/python/site-packages/moabb/datasets/preprocessing.py:279: UserWarning: warnEpochs <Epochs |  5 events (all good), 1 – 4 s, baseline off, ~236 kB, data loaded,\n",
            " '6.66': 0\n",
            " '7.50': 1\n",
            " '8.57': 4>\n",
            "  warn(f\"warnEpochs {epochs}\")\n",
            "2024-07-25 22:25:52,859 INFO MainThread moabb.evaluations.base CCA | MAMEM3 | 9 | 0: Score 0.609\n"
          ]
        },
        {
          "name": "stdout",
          "output_type": "stream",
          "text": [
            "No hdf5_path provided, models will not be saved.\n"
          ]
        },
        {
          "name": "stderr",
          "output_type": "stream",
          "text": [
            "MAMEM3-WithinSession:  90%|█████████ | 9/10 [00:17<00:01,  1.97s/it]/Users/skpaul/Library/Python/3.9/lib/python/site-packages/moabb/datasets/preprocessing.py:279: UserWarning: warnEpochs <Epochs |  7 events (all good), 1 – 4 s, baseline off, ~320 kB, data loaded,\n",
            " '6.66': 2\n",
            " '7.50': 3\n",
            " '8.57': 2>\n",
            "  warn(f\"warnEpochs {epochs}\")\n",
            "/Users/skpaul/Library/Python/3.9/lib/python/site-packages/moabb/datasets/preprocessing.py:279: UserWarning: warnEpochs <Epochs |  6 events (all good), 1 – 4 s, baseline off, ~278 kB, data loaded,\n",
            " '6.66': 2\n",
            " '7.50': 1\n",
            " '8.57': 3>\n",
            "  warn(f\"warnEpochs {epochs}\")\n",
            "/Users/skpaul/Library/Python/3.9/lib/python/site-packages/moabb/datasets/preprocessing.py:279: UserWarning: warnEpochs <Epochs |  7 events (all good), 1 – 4 s, baseline off, ~320 kB, data loaded,\n",
            " '6.66': 3\n",
            " '7.50': 2\n",
            " '8.57': 2>\n",
            "  warn(f\"warnEpochs {epochs}\")\n",
            "/Users/skpaul/Library/Python/3.9/lib/python/site-packages/moabb/datasets/preprocessing.py:279: UserWarning: warnEpochs <Epochs |  4 events (all good), 1 – 4 s, baseline off, ~194 kB, data loaded,\n",
            " '6.66': 0\n",
            " '7.50': 3\n",
            " '8.57': 1>\n",
            "  warn(f\"warnEpochs {epochs}\")\n",
            "/Users/skpaul/Library/Python/3.9/lib/python/site-packages/moabb/datasets/preprocessing.py:279: UserWarning: warnEpochs <Epochs |  5 events (all good), 1 – 4 s, baseline off, ~236 kB, data loaded,\n",
            " '6.66': 2\n",
            " '7.50': 3\n",
            " '8.57': 0>\n",
            "  warn(f\"warnEpochs {epochs}\")\n",
            "/Users/skpaul/Library/Python/3.9/lib/python/site-packages/moabb/datasets/preprocessing.py:279: UserWarning: warnEpochs <Epochs |  5 events (all good), 1 – 4 s, baseline off, ~236 kB, data loaded,\n",
            " '6.66': 0\n",
            " '7.50': 2\n",
            " '8.57': 3>\n",
            "  warn(f\"warnEpochs {epochs}\")\n",
            "/Users/skpaul/Library/Python/3.9/lib/python/site-packages/moabb/datasets/preprocessing.py:279: UserWarning: warnEpochs <Epochs |  6 events (all good), 1 – 4 s, baseline off, ~278 kB, data loaded,\n",
            " '6.66': 0\n",
            " '7.50': 4\n",
            " '8.57': 2>\n",
            "  warn(f\"warnEpochs {epochs}\")\n",
            "/Users/skpaul/Library/Python/3.9/lib/python/site-packages/moabb/datasets/preprocessing.py:279: UserWarning: warnEpochs <Epochs |  7 events (all good), 1 – 4 s, baseline off, ~320 kB, data loaded,\n",
            " '6.66': 0\n",
            " '7.50': 4\n",
            " '8.57': 3>\n",
            "  warn(f\"warnEpochs {epochs}\")\n",
            "/Users/skpaul/Library/Python/3.9/lib/python/site-packages/moabb/datasets/preprocessing.py:279: UserWarning: warnEpochs <Epochs |  5 events (all good), 1 – 4 s, baseline off, ~236 kB, data loaded,\n",
            " '6.66': 3\n",
            " '7.50': 1\n",
            " '8.57': 1>\n",
            "  warn(f\"warnEpochs {epochs}\")\n",
            "/Users/skpaul/Library/Python/3.9/lib/python/site-packages/moabb/datasets/preprocessing.py:279: UserWarning: warnEpochs <Epochs |  6 events (all good), 1 – 4 s, baseline off, ~278 kB, data loaded,\n",
            " '6.66': 1\n",
            " '7.50': 3\n",
            " '8.57': 2>\n",
            "  warn(f\"warnEpochs {epochs}\")\n",
            "2024-07-25 22:25:54,872 INFO MainThread moabb.evaluations.base CCA | MAMEM3 | 10 | 0: Score 0.450\n"
          ]
        },
        {
          "name": "stdout",
          "output_type": "stream",
          "text": [
            "No hdf5_path provided, models will not be saved.\n"
          ]
        },
        {
          "name": "stderr",
          "output_type": "stream",
          "text": [
            "MAMEM3-WithinSession: 100%|██████████| 10/10 [00:19<00:00,  1.98s/it]"
          ]
        },
        {
          "name": "stdout",
          "output_type": "stream",
          "text": [
            "      score      time  samples subject session  channels  n_sessions dataset  \\\n",
            "0  0.352727  0.031936     54.0       1       0        14           1  MAMEM3   \n",
            "1  0.510606  0.029923     58.0       2       0        14           1  MAMEM3   \n",
            "2  0.362821  0.033058     61.0       3       0        14           1  MAMEM3   \n",
            "3  0.403030  0.030435     59.0       4       0        14           1  MAMEM3   \n",
            "4  0.369231  0.031322     62.0       5       0        14           1  MAMEM3   \n",
            "\n",
            "  pipeline  \n",
            "0      CCA  \n",
            "1      CCA  \n",
            "2      CCA  \n",
            "3      CCA  \n",
            "4      CCA  \n"
          ]
        },
        {
          "name": "stderr",
          "output_type": "stream",
          "text": [
            "\n"
          ]
        }
      ],
      "source": [
        "overwrite = True  # set to True if we want to overwrite cached results\n",
        "\n",
        "evaluation = WithinSessionEvaluation(\n",
        "    paradigm=paradigm, datasets=dataset, suffix=\"examples\", overwrite=overwrite\n",
        ")\n",
        "results = evaluation.process(pipeline)\n",
        "\n",
        "print(results.head())"
      ]
    },
    {
      "cell_type": "markdown",
      "metadata": {},
      "source": [
        "## Plot Results\n",
        "\n",
        "Here we plot the results, indicating the score for each subject\n",
        "\n"
      ]
    },
    {
      "cell_type": "code",
      "execution_count": 8,
      "metadata": {},
      "outputs": [
        {
          "data": {
            "text/html": [
              "<div>\n",
              "<style scoped>\n",
              "    .dataframe tbody tr th:only-of-type {\n",
              "        vertical-align: middle;\n",
              "    }\n",
              "\n",
              "    .dataframe tbody tr th {\n",
              "        vertical-align: top;\n",
              "    }\n",
              "\n",
              "    .dataframe thead th {\n",
              "        text-align: right;\n",
              "    }\n",
              "</style>\n",
              "<table border=\"1\" class=\"dataframe\">\n",
              "  <thead>\n",
              "    <tr style=\"text-align: right;\">\n",
              "      <th></th>\n",
              "      <th>score</th>\n",
              "      <th>time</th>\n",
              "      <th>samples</th>\n",
              "      <th>subject</th>\n",
              "      <th>session</th>\n",
              "      <th>channels</th>\n",
              "      <th>n_sessions</th>\n",
              "      <th>dataset</th>\n",
              "      <th>pipeline</th>\n",
              "    </tr>\n",
              "  </thead>\n",
              "  <tbody>\n",
              "    <tr>\n",
              "      <th>0</th>\n",
              "      <td>0.352727</td>\n",
              "      <td>0.031936</td>\n",
              "      <td>54.0</td>\n",
              "      <td>1</td>\n",
              "      <td>0</td>\n",
              "      <td>14</td>\n",
              "      <td>1</td>\n",
              "      <td>MAMEM3</td>\n",
              "      <td>CCA</td>\n",
              "    </tr>\n",
              "    <tr>\n",
              "      <th>1</th>\n",
              "      <td>0.510606</td>\n",
              "      <td>0.029923</td>\n",
              "      <td>58.0</td>\n",
              "      <td>2</td>\n",
              "      <td>0</td>\n",
              "      <td>14</td>\n",
              "      <td>1</td>\n",
              "      <td>MAMEM3</td>\n",
              "      <td>CCA</td>\n",
              "    </tr>\n",
              "    <tr>\n",
              "      <th>2</th>\n",
              "      <td>0.362821</td>\n",
              "      <td>0.033058</td>\n",
              "      <td>61.0</td>\n",
              "      <td>3</td>\n",
              "      <td>0</td>\n",
              "      <td>14</td>\n",
              "      <td>1</td>\n",
              "      <td>MAMEM3</td>\n",
              "      <td>CCA</td>\n",
              "    </tr>\n",
              "    <tr>\n",
              "      <th>3</th>\n",
              "      <td>0.403030</td>\n",
              "      <td>0.030435</td>\n",
              "      <td>59.0</td>\n",
              "      <td>4</td>\n",
              "      <td>0</td>\n",
              "      <td>14</td>\n",
              "      <td>1</td>\n",
              "      <td>MAMEM3</td>\n",
              "      <td>CCA</td>\n",
              "    </tr>\n",
              "    <tr>\n",
              "      <th>4</th>\n",
              "      <td>0.369231</td>\n",
              "      <td>0.031322</td>\n",
              "      <td>62.0</td>\n",
              "      <td>5</td>\n",
              "      <td>0</td>\n",
              "      <td>14</td>\n",
              "      <td>1</td>\n",
              "      <td>MAMEM3</td>\n",
              "      <td>CCA</td>\n",
              "    </tr>\n",
              "    <tr>\n",
              "      <th>5</th>\n",
              "      <td>0.375758</td>\n",
              "      <td>0.030005</td>\n",
              "      <td>56.0</td>\n",
              "      <td>6</td>\n",
              "      <td>0</td>\n",
              "      <td>14</td>\n",
              "      <td>1</td>\n",
              "      <td>MAMEM3</td>\n",
              "      <td>CCA</td>\n",
              "    </tr>\n",
              "    <tr>\n",
              "      <th>6</th>\n",
              "      <td>0.283333</td>\n",
              "      <td>0.031189</td>\n",
              "      <td>60.0</td>\n",
              "      <td>7</td>\n",
              "      <td>0</td>\n",
              "      <td>14</td>\n",
              "      <td>1</td>\n",
              "      <td>MAMEM3</td>\n",
              "      <td>CCA</td>\n",
              "    </tr>\n",
              "    <tr>\n",
              "      <th>7</th>\n",
              "      <td>0.343939</td>\n",
              "      <td>0.029703</td>\n",
              "      <td>58.0</td>\n",
              "      <td>8</td>\n",
              "      <td>0</td>\n",
              "      <td>14</td>\n",
              "      <td>1</td>\n",
              "      <td>MAMEM3</td>\n",
              "      <td>CCA</td>\n",
              "    </tr>\n",
              "    <tr>\n",
              "      <th>8</th>\n",
              "      <td>0.609091</td>\n",
              "      <td>0.032395</td>\n",
              "      <td>56.0</td>\n",
              "      <td>9</td>\n",
              "      <td>0</td>\n",
              "      <td>14</td>\n",
              "      <td>1</td>\n",
              "      <td>MAMEM3</td>\n",
              "      <td>CCA</td>\n",
              "    </tr>\n",
              "    <tr>\n",
              "      <th>9</th>\n",
              "      <td>0.450000</td>\n",
              "      <td>0.029900</td>\n",
              "      <td>58.0</td>\n",
              "      <td>10</td>\n",
              "      <td>0</td>\n",
              "      <td>14</td>\n",
              "      <td>1</td>\n",
              "      <td>MAMEM3</td>\n",
              "      <td>CCA</td>\n",
              "    </tr>\n",
              "  </tbody>\n",
              "</table>\n",
              "</div>"
            ],
            "text/plain": [
              "      score      time  samples subject session  channels  n_sessions dataset  \\\n",
              "0  0.352727  0.031936     54.0       1       0        14           1  MAMEM3   \n",
              "1  0.510606  0.029923     58.0       2       0        14           1  MAMEM3   \n",
              "2  0.362821  0.033058     61.0       3       0        14           1  MAMEM3   \n",
              "3  0.403030  0.030435     59.0       4       0        14           1  MAMEM3   \n",
              "4  0.369231  0.031322     62.0       5       0        14           1  MAMEM3   \n",
              "5  0.375758  0.030005     56.0       6       0        14           1  MAMEM3   \n",
              "6  0.283333  0.031189     60.0       7       0        14           1  MAMEM3   \n",
              "7  0.343939  0.029703     58.0       8       0        14           1  MAMEM3   \n",
              "8  0.609091  0.032395     56.0       9       0        14           1  MAMEM3   \n",
              "9  0.450000  0.029900     58.0      10       0        14           1  MAMEM3   \n",
              "\n",
              "  pipeline  \n",
              "0      CCA  \n",
              "1      CCA  \n",
              "2      CCA  \n",
              "3      CCA  \n",
              "4      CCA  \n",
              "5      CCA  \n",
              "6      CCA  \n",
              "7      CCA  \n",
              "8      CCA  \n",
              "9      CCA  "
            ]
          },
          "execution_count": 8,
          "metadata": {},
          "output_type": "execute_result"
        }
      ],
      "source": [
        "results"
      ]
    },
    {
      "cell_type": "code",
      "execution_count": 9,
      "metadata": {
        "collapsed": false
      },
      "outputs": [
        {
          "data": {
            "text/plain": [
              "<Axes: xlabel='session', ylabel='score'>"
            ]
          },
          "execution_count": 9,
          "metadata": {},
          "output_type": "execute_result"
        },
        {
          "data": {
            "image/png": "[encoded data removed]",
            "text/plain": [
              "<Figure size 640x480 with 1 Axes>"
            ]
          },
          "metadata": {},
          "output_type": "display_data"
        }
      ],
      "source": [
        "plt.figure()\n",
        "sns.barplot(data=results, y=\"score\", x=\"session\", hue=\"subject\", palette=\"viridis\")"
      ]
    },
    {
      "cell_type": "markdown",
      "metadata": {},
      "source": [
        "And the computation time in seconds\n",
        "\n"
      ]
    },
    {
      "cell_type": "code",
      "execution_count": 10,
      "metadata": {
        "collapsed": false
      },
      "outputs": [
        {
          "data": {
            "image/png": "[encoded data removed]",
            "text/plain": [
              "<Figure size 640x480 with 1 Axes>"
            ]
          },
          "metadata": {},
          "output_type": "display_data"
        }
      ],
      "source": [
        "plt.figure()\n",
        "ax = sns.barplot(data=results, y=\"time\", x=\"session\", hue=\"subject\", palette=\"Reds\")\n",
        "ax.set_ylabel(\"Time (s)\")\n",
        "plt.show()"
      ]
    }
  ],
  "metadata": {
    "kernelspec": {
      "display_name": "Python 3",
      "language": "python",
      "name": "python3"
    },
    "language_info": {
      "codemirror_mode": {
        "name": "ipython",
        "version": 3
      },
      "file_extension": ".py",
      "mimetype": "text/x-python",
      "name": "python",
      "nbconvert_exporter": "python",
      "pygments_lexer": "ipython3",
      "version": "3.9.6"
    }
  },
  "nbformat": 4,
  "nbformat_minor": 0
}
