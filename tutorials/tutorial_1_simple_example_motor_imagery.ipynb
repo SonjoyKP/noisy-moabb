{
  "cells": [
    {
      "cell_type": "code",
      "execution_count": 1,
      "metadata": {
        "collapsed": false
      },
      "outputs": [],
      "source": [
        "%matplotlib inline"
      ]
    },
    {
      "cell_type": "markdown",
      "metadata": {},
      "source": [
        "\n",
        "# Tutorial 1: Simple Motor Imagery\n",
        "\n",
        "In this example, we will go through all the steps to make a simple BCI\n",
        "classification task, downloading a dataset and using a standard classifier. We\n",
        "choose the dataset 2a from BCI Competition IV, a motor imagery task. We will\n",
        "use a CSP to enhance the signal-to-noise ratio of the EEG epochs and a LDA to\n",
        "classify these signals.\n"
      ]
    },
    {
      "cell_type": "code",
      "execution_count": 2,
      "metadata": {
        "collapsed": false
      },
      "outputs": [],
      "source": [
        "# Authors: Pedro L. C. Rodrigues, Sylvain Chevallier\n",
        "#\n",
        "# https://github.com/plcrodrigues/Workshop-MOABB-BCI-Graz-2019\n",
        "\n",
        "import warnings\n",
        "\n",
        "import matplotlib.pyplot as plt\n",
        "import pandas as pd\n",
        "import seaborn as sns\n",
        "from mne.decoding import CSP\n",
        "from sklearn.discriminant_analysis import LinearDiscriminantAnalysis as LDA\n",
        "from sklearn.pipeline import make_pipeline\n",
        "\n",
        "import moabb\n",
        "from moabb.datasets import BNCI2014_001\n",
        "from moabb.evaluations import WithinSessionEvaluation\n",
        "from moabb.paradigms import LeftRightImagery\n",
        "\n",
        "\n",
        "moabb.set_log_level(\"info\")\n",
        "warnings.filterwarnings(\"ignore\")"
      ]
    },
    {
      "cell_type": "markdown",
      "metadata": {},
      "source": [
        "## Instantiating Dataset\n",
        "\n",
        "The first thing to do is to instantiate the dataset that we want to analyze.\n",
        "MOABB has a list of many different datasets, each one containing all the\n",
        "necessary information for describing them, such as the number of subjects,\n",
        "size of trials, names of classes, etc.\n",
        "\n",
        "The dataset class has methods for:\n",
        "\n",
        "- downloading its files from some online source (e.g. Zenodo)\n",
        "- importing the data from the files in whatever extension they might be\n",
        "  (like .mat, .gdf, etc.) and instantiate a Raw object from the MNE package\n",
        "\n"
      ]
    },
    {
      "cell_type": "code",
      "execution_count": 3,
      "metadata": {
        "collapsed": false
      },
      "outputs": [],
      "source": [
        "dataset = BNCI2014_001()\n",
        "#dataset.subject_list = [1, 2, 3]"
      ]
    },
    {
      "cell_type": "markdown",
      "metadata": {},
      "source": [
        "## Accessing EEG Recording\n",
        "\n",
        "As an example, we may access the EEG recording from a given session and a\n",
        "given run as follows:\n",
        "\n"
      ]
    },
    {
      "cell_type": "code",
      "execution_count": 4,
      "metadata": {
        "collapsed": false
      },
      "outputs": [
        {
          "data": {
            "text/plain": [
              "{1: {'0train': {'0': <RawArray | 26 x 96735 (386.9 s), ~19.2 MB, data loaded>,\n",
              "   '1': <RawArray | 26 x 96735 (386.9 s), ~19.2 MB, data loaded>,\n",
              "   '2': <RawArray | 26 x 96735 (386.9 s), ~19.2 MB, data loaded>,\n",
              "   '3': <RawArray | 26 x 96735 (386.9 s), ~19.2 MB, data loaded>,\n",
              "   '4': <RawArray | 26 x 96735 (386.9 s), ~19.2 MB, data loaded>,\n",
              "   '5': <RawArray | 26 x 96735 (386.9 s), ~19.2 MB, data loaded>},\n",
              "  '1test': {'0': <RawArray | 26 x 96735 (386.9 s), ~19.2 MB, data loaded>,\n",
              "   '1': <RawArray | 26 x 96735 (386.9 s), ~19.2 MB, data loaded>,\n",
              "   '2': <RawArray | 26 x 96735 (386.9 s), ~19.2 MB, data loaded>,\n",
              "   '3': <RawArray | 26 x 96735 (386.9 s), ~19.2 MB, data loaded>,\n",
              "   '4': <RawArray | 26 x 96735 (386.9 s), ~19.2 MB, data loaded>,\n",
              "   '5': <RawArray | 26 x 96735 (386.9 s), ~19.2 MB, data loaded>}}}"
            ]
          },
          "execution_count": 4,
          "metadata": {},
          "output_type": "execute_result"
        }
      ],
      "source": [
        "#dataset.allow_add_noise()\n",
        "sessions = dataset.get_data(subjects=[1])\n",
        "sessions"
      ]
    },
    {
      "cell_type": "markdown",
      "metadata": {},
      "source": [
        "This returns a MNE Raw object that can be manipulated. This might be enough\n",
        "for some users, since the pre-processing and epoching steps can be easily\n",
        "done via MNE. However, to conduct an assessment of several classifiers on\n",
        "multiple subjects, MOABB ends up being a more appropriate option.\n",
        "\n"
      ]
    },
    {
      "cell_type": "code",
      "execution_count": 5,
      "metadata": {
        "collapsed": false
      },
      "outputs": [
        {
          "data": {
            "text/plain": [
              "array([[ 3.41796875e-07, -6.34765625e-06, -1.80664062e-06, ...,\n",
              "         2.92968750e-07, -6.34765625e-06, -9.71679687e-06],\n",
              "       [ 2.44140625e-07, -7.95898437e-06, -7.17773437e-06, ...,\n",
              "         4.88281250e-08, -5.12695312e-06, -7.17773437e-06],\n",
              "       [-3.22265625e-06, -1.04980469e-05, -8.15429687e-06, ...,\n",
              "        -3.07617188e-06, -9.71679687e-06, -1.39648438e-05],\n",
              "       ...,\n",
              "       [ 2.05078125e-05,  7.81250000e-06,  1.36718750e-05, ...,\n",
              "         4.58984375e-05,  3.85742188e-05,  3.95507813e-05],\n",
              "       [ 5.85937500e-06, -4.88281250e-06, -4.88281250e-07, ...,\n",
              "        -4.39453125e-06, -4.39453125e-06, -1.07421875e-05],\n",
              "       [ 0.00000000e+00,  0.00000000e+00,  0.00000000e+00, ...,\n",
              "         0.00000000e+00,  0.00000000e+00,  0.00000000e+00]])"
            ]
          },
          "execution_count": 5,
          "metadata": {},
          "output_type": "execute_result"
        }
      ],
      "source": [
        "subject = 1\n",
        "session_name = \"0train\"\n",
        "run_name = \"0\"\n",
        "raw = sessions[subject][session_name][run_name]\n",
        "raw.get_data()"
      ]
    },
    {
      "cell_type": "markdown",
      "metadata": {},
      "source": [
        "## Choosing a Paradigm\n",
        "\n",
        "Once we have instantiated a dataset, we have to choose a paradigm. This\n",
        "object is responsible for filtering the data, epoching it, and extracting\n",
        "the labels for each epoch. Note that each dataset comes with the names of\n",
        "the paradigms to which it might be associated. It would not make sense to\n",
        "process a P300 dataset with a MI paradigm object.\n",
        "\n"
      ]
    },
    {
      "cell_type": "code",
      "execution_count": 6,
      "metadata": {
        "collapsed": false
      },
      "outputs": [
        {
          "name": "stdout",
          "output_type": "stream",
          "text": [
            "imagery\n"
          ]
        }
      ],
      "source": [
        "print(dataset.paradigm)"
      ]
    },
    {
      "cell_type": "markdown",
      "metadata": {},
      "source": [
        "For the example below, we will consider the paradigm associated to\n",
        "left-hand/right-hand motor imagery task, but there are other options in\n",
        "MOABB for motor imagery, P300 or SSVEP.\n",
        "\n"
      ]
    },
    {
      "cell_type": "code",
      "execution_count": 7,
      "metadata": {
        "collapsed": false
      },
      "outputs": [],
      "source": [
        "paradigm = LeftRightImagery()"
      ]
    },
    {
      "cell_type": "markdown",
      "metadata": {},
      "source": [
        "We may check the list of all datasets available in MOABB for using with this\n",
        "paradigm (note that BNCI2014_001 is in it)\n",
        "\n"
      ]
    },
    {
      "cell_type": "code",
      "execution_count": 8,
      "metadata": {
        "collapsed": false
      },
      "outputs": [
        {
          "name": "stdout",
          "output_type": "stream",
          "text": [
            "[<moabb.datasets.bnci.BNCI2014_001 object at 0x17c7b4820>, <moabb.datasets.bnci.BNCI2014_004 object at 0x17c7b4580>, <moabb.datasets.gigadb.Cho2017 object at 0x17c7b40a0>, <moabb.datasets.mpi_mi.GrosseWentrup2009 object at 0x17c684f40>, <moabb.datasets.Lee2019.Lee2019_MI object at 0x10e4b1b80>, <moabb.datasets.liu2024.Liu2024 object at 0x10e4dbaf0>, <moabb.datasets.physionet_mi.PhysionetMI object at 0x10e4dbcd0>, <moabb.datasets.schirrmeister2017.Schirrmeister2017 object at 0x10e4dbdc0>, <moabb.datasets.bbci_eeg_fnirs.Shin2017A object at 0x10e4b1550>, <moabb.datasets.stieger2021.Stieger2021 object at 0x10e4db6a0>, <moabb.datasets.Weibo2014.Weibo2014 object at 0x10e4db8e0>, <moabb.datasets.Zhou2016.Zhou2016 object at 0x104c05fd0>]\n"
          ]
        }
      ],
      "source": [
        "print(paradigm.datasets)"
      ]
    },
    {
      "cell_type": "markdown",
      "metadata": {},
      "source": [
        "The data from a list of subjects could be preprocessed and return as a 3D\n",
        "numpy array `X`, follow a scikit-like format with the associated `labels`.\n",
        "The `meta` object contains all information regarding the subject, the\n",
        "session and the run associated to each trial.\n",
        "\n"
      ]
    },
    {
      "cell_type": "code",
      "execution_count": 9,
      "metadata": {
        "collapsed": false
      },
      "outputs": [],
      "source": [
        "X, labels, meta = paradigm.get_data(dataset=dataset, subjects=[1])"
      ]
    },
    {
      "cell_type": "markdown",
      "metadata": {},
      "source": [
        "## Create Pipeline\n",
        "\n",
        "Our goal is to evaluate the performance of a given classification pipeline\n",
        "(or several of them) when it is applied to the epochs from the previously\n",
        "chosen dataset. We will consider a very simple classification pipeline in\n",
        "which the dimension of the epochs are reduced via a CSP step and then\n",
        "classified via a linear discriminant analysis.\n",
        "\n"
      ]
    },
    {
      "cell_type": "code",
      "execution_count": 10,
      "metadata": {
        "collapsed": false
      },
      "outputs": [],
      "source": [
        "pipeline = make_pipeline(CSP(n_components=8), LDA())"
      ]
    },
    {
      "cell_type": "markdown",
      "metadata": {},
      "source": [
        "## Evaluation\n",
        "\n",
        "To evaluate the score of this pipeline, we use the `evaluation` class. When\n",
        "instantiating it, we say which paradigm we want to consider, a list with the\n",
        "datasets to analyze, and whether the scores should be recalculated each time\n",
        "we run the evaluation or if MOABB should create a cache file.\n",
        "\n",
        "Note that there are different ways of evaluating a classifier; in this\n",
        "example, we choose `WithinSessionEvaluation`, which consists of doing a\n",
        "cross-validation procedure where the training and testing partitions are from\n",
        "the same recording session of the dataset. We could have used\n",
        "`CrossSessionEvaluation`, which takes all but one session as training\n",
        "partition and the remaining one as testing partition.\n",
        "\n"
      ]
    },
    {
      "cell_type": "code",
      "execution_count": 11,
      "metadata": {
        "collapsed": false
      },
      "outputs": [],
      "source": [
        "evaluation = WithinSessionEvaluation(\n",
        "    paradigm=paradigm,\n",
        "    datasets=[dataset],\n",
        "    overwrite=True,\n",
        "    hdf5_path=None,\n",
        ")"
      ]
    },
    {
      "cell_type": "markdown",
      "metadata": {},
      "source": [
        "We obtain the results in the form of a pandas dataframe\n",
        "\n"
      ]
    },
    {
      "cell_type": "code",
      "execution_count": 12,
      "metadata": {
        "collapsed": false
      },
      "outputs": [
        {
          "name": "stderr",
          "output_type": "stream",
          "text": [
            "2024-07-24 22:53:45,366 INFO MainThread moabb.evaluations.base Processing dataset: BNCI2014-001\n",
            "BNCI2014-001-WithinSession:   0%|          | 0/9 [00:00<?, ?it/s]"
          ]
        },
        {
          "name": "stdout",
          "output_type": "stream",
          "text": [
            "No hdf5_path provided, models will not be saved.\n"
          ]
        },
        {
          "name": "stderr",
          "output_type": "stream",
          "text": [
            "2024-07-24 22:53:50,754 INFO MainThread moabb.evaluations.base csp+lda | BNCI2014-001 | 1 | 0train: Score 0.919\n"
          ]
        },
        {
          "name": "stdout",
          "output_type": "stream",
          "text": [
            "No hdf5_path provided, models will not be saved.\n"
          ]
        },
        {
          "name": "stderr",
          "output_type": "stream",
          "text": [
            "2024-07-24 22:53:53,818 INFO MainThread moabb.evaluations.base csp+lda | BNCI2014-001 | 1 | 1test: Score 0.956\n",
            "BNCI2014-001-WithinSession:  11%|█         | 1/9 [00:08<01:08,  8.59s/it]"
          ]
        },
        {
          "name": "stdout",
          "output_type": "stream",
          "text": [
            "No hdf5_path provided, models will not be saved.\n"
          ]
        },
        {
          "name": "stderr",
          "output_type": "stream",
          "text": [
            "2024-07-24 22:53:58,845 INFO MainThread moabb.evaluations.base csp+lda | BNCI2014-001 | 2 | 0train: Score 0.607\n"
          ]
        },
        {
          "name": "stdout",
          "output_type": "stream",
          "text": [
            "No hdf5_path provided, models will not be saved.\n"
          ]
        },
        {
          "name": "stderr",
          "output_type": "stream",
          "text": [
            "2024-07-24 22:54:02,053 INFO MainThread moabb.evaluations.base csp+lda | BNCI2014-001 | 2 | 1test: Score 0.698\n",
            "BNCI2014-001-WithinSession:  22%|██▏       | 2/9 [00:16<00:58,  8.36s/it]"
          ]
        },
        {
          "name": "stdout",
          "output_type": "stream",
          "text": [
            "No hdf5_path provided, models will not be saved.\n"
          ]
        },
        {
          "name": "stderr",
          "output_type": "stream",
          "text": [
            "2024-07-24 22:54:06,915 INFO MainThread moabb.evaluations.base csp+lda | BNCI2014-001 | 3 | 0train: Score 0.983\n"
          ]
        },
        {
          "name": "stdout",
          "output_type": "stream",
          "text": [
            "No hdf5_path provided, models will not be saved.\n"
          ]
        },
        {
          "name": "stderr",
          "output_type": "stream",
          "text": [
            "2024-07-24 22:54:10,030 INFO MainThread moabb.evaluations.base csp+lda | BNCI2014-001 | 3 | 1test: Score 0.996\n",
            "BNCI2014-001-WithinSession:  33%|███▎      | 3/9 [00:24<00:49,  8.19s/it]"
          ]
        },
        {
          "name": "stdout",
          "output_type": "stream",
          "text": [
            "No hdf5_path provided, models will not be saved.\n"
          ]
        },
        {
          "name": "stderr",
          "output_type": "stream",
          "text": [
            "2024-07-24 22:54:15,322 INFO MainThread moabb.evaluations.base csp+lda | BNCI2014-001 | 4 | 0train: Score 0.823\n"
          ]
        },
        {
          "name": "stdout",
          "output_type": "stream",
          "text": [
            "No hdf5_path provided, models will not be saved.\n"
          ]
        },
        {
          "name": "stderr",
          "output_type": "stream",
          "text": [
            "2024-07-24 22:54:18,418 INFO MainThread moabb.evaluations.base csp+lda | BNCI2014-001 | 4 | 1test: Score 0.866\n",
            "BNCI2014-001-WithinSession:  44%|████▍     | 4/9 [00:33<00:41,  8.28s/it]"
          ]
        },
        {
          "name": "stdout",
          "output_type": "stream",
          "text": [
            "No hdf5_path provided, models will not be saved.\n"
          ]
        },
        {
          "name": "stderr",
          "output_type": "stream",
          "text": [
            "2024-07-24 22:54:23,252 INFO MainThread moabb.evaluations.base csp+lda | BNCI2014-001 | 5 | 0train: Score 0.593\n"
          ]
        },
        {
          "name": "stdout",
          "output_type": "stream",
          "text": [
            "No hdf5_path provided, models will not be saved.\n"
          ]
        },
        {
          "name": "stderr",
          "output_type": "stream",
          "text": [
            "2024-07-24 22:54:26,380 INFO MainThread moabb.evaluations.base csp+lda | BNCI2014-001 | 5 | 1test: Score 0.593\n",
            "BNCI2014-001-WithinSession:  56%|█████▌    | 5/9 [00:41<00:32,  8.16s/it]"
          ]
        },
        {
          "name": "stdout",
          "output_type": "stream",
          "text": [
            "No hdf5_path provided, models will not be saved.\n"
          ]
        },
        {
          "name": "stderr",
          "output_type": "stream",
          "text": [
            "2024-07-24 22:54:31,324 INFO MainThread moabb.evaluations.base csp+lda | BNCI2014-001 | 6 | 0train: Score 0.759\n"
          ]
        },
        {
          "name": "stdout",
          "output_type": "stream",
          "text": [
            "No hdf5_path provided, models will not be saved.\n"
          ]
        },
        {
          "name": "stderr",
          "output_type": "stream",
          "text": [
            "2024-07-24 22:54:34,381 INFO MainThread moabb.evaluations.base csp+lda | BNCI2014-001 | 6 | 1test: Score 0.724\n",
            "BNCI2014-001-WithinSession:  67%|██████▋   | 6/9 [00:49<00:24,  8.11s/it]"
          ]
        },
        {
          "name": "stdout",
          "output_type": "stream",
          "text": [
            "No hdf5_path provided, models will not be saved.\n"
          ]
        },
        {
          "name": "stderr",
          "output_type": "stream",
          "text": [
            "2024-07-24 22:54:39,360 INFO MainThread moabb.evaluations.base csp+lda | BNCI2014-001 | 7 | 0train: Score 0.862\n"
          ]
        },
        {
          "name": "stdout",
          "output_type": "stream",
          "text": [
            "No hdf5_path provided, models will not be saved.\n"
          ]
        },
        {
          "name": "stderr",
          "output_type": "stream",
          "text": [
            "2024-07-24 22:54:42,410 INFO MainThread moabb.evaluations.base csp+lda | BNCI2014-001 | 7 | 1test: Score 0.977\n",
            "BNCI2014-001-WithinSession:  78%|███████▊  | 7/9 [00:57<00:16,  8.08s/it]"
          ]
        },
        {
          "name": "stdout",
          "output_type": "stream",
          "text": [
            "No hdf5_path provided, models will not be saved.\n"
          ]
        },
        {
          "name": "stderr",
          "output_type": "stream",
          "text": [
            "2024-07-24 22:54:47,377 INFO MainThread moabb.evaluations.base csp+lda | BNCI2014-001 | 8 | 0train: Score 1.000\n"
          ]
        },
        {
          "name": "stdout",
          "output_type": "stream",
          "text": [
            "No hdf5_path provided, models will not be saved.\n"
          ]
        },
        {
          "name": "stderr",
          "output_type": "stream",
          "text": [
            "2024-07-24 22:54:50,387 INFO MainThread moabb.evaluations.base csp+lda | BNCI2014-001 | 8 | 1test: Score 0.994\n",
            "BNCI2014-001-WithinSession:  89%|████████▉ | 8/9 [01:05<00:08,  8.05s/it]"
          ]
        },
        {
          "name": "stdout",
          "output_type": "stream",
          "text": [
            "No hdf5_path provided, models will not be saved.\n"
          ]
        },
        {
          "name": "stderr",
          "output_type": "stream",
          "text": [
            "2024-07-24 22:54:55,263 INFO MainThread moabb.evaluations.base csp+lda | BNCI2014-001 | 9 | 0train: Score 0.838\n"
          ]
        },
        {
          "name": "stdout",
          "output_type": "stream",
          "text": [
            "No hdf5_path provided, models will not be saved.\n"
          ]
        },
        {
          "name": "stderr",
          "output_type": "stream",
          "text": [
            "2024-07-24 22:54:58,336 INFO MainThread moabb.evaluations.base csp+lda | BNCI2014-001 | 9 | 1test: Score 0.967\n",
            "BNCI2014-001-WithinSession: 100%|██████████| 9/9 [01:13<00:00,  8.12s/it]\n"
          ]
        }
      ],
      "source": [
        "results = evaluation.process({\"csp+lda\": pipeline})"
      ]
    },
    {
      "cell_type": "markdown",
      "metadata": {},
      "source": [
        "The results are stored in locally, to avoid recomputing the results each time.\n",
        "It is saved in `hdf5_path` if defined or in ~/mne_data/results  otherwise.\n",
        "To export the results in CSV:\n",
        "\n"
      ]
    },
    {
      "cell_type": "code",
      "execution_count": 13,
      "metadata": {},
      "outputs": [
        {
          "data": {
            "text/html": [
              "<div>\n",
              "<style scoped>\n",
              "    .dataframe tbody tr th:only-of-type {\n",
              "        vertical-align: middle;\n",
              "    }\n",
              "\n",
              "    .dataframe tbody tr th {\n",
              "        vertical-align: top;\n",
              "    }\n",
              "\n",
              "    .dataframe thead th {\n",
              "        text-align: right;\n",
              "    }\n",
              "</style>\n",
              "<table border=\"1\" class=\"dataframe\">\n",
              "  <thead>\n",
              "    <tr style=\"text-align: right;\">\n",
              "      <th></th>\n",
              "      <th>score</th>\n",
              "      <th>time</th>\n",
              "      <th>samples</th>\n",
              "      <th>subject</th>\n",
              "      <th>session</th>\n",
              "      <th>channels</th>\n",
              "      <th>n_sessions</th>\n",
              "      <th>dataset</th>\n",
              "      <th>pipeline</th>\n",
              "    </tr>\n",
              "  </thead>\n",
              "  <tbody>\n",
              "    <tr>\n",
              "      <th>0</th>\n",
              "      <td>0.919320</td>\n",
              "      <td>0.607638</td>\n",
              "      <td>144.0</td>\n",
              "      <td>1</td>\n",
              "      <td>0train</td>\n",
              "      <td>22</td>\n",
              "      <td>2</td>\n",
              "      <td>BNCI2014-001</td>\n",
              "      <td>csp+lda</td>\n",
              "    </tr>\n",
              "    <tr>\n",
              "      <th>1</th>\n",
              "      <td>0.955918</td>\n",
              "      <td>0.577577</td>\n",
              "      <td>144.0</td>\n",
              "      <td>1</td>\n",
              "      <td>1test</td>\n",
              "      <td>22</td>\n",
              "      <td>2</td>\n",
              "      <td>BNCI2014-001</td>\n",
              "      <td>csp+lda</td>\n",
              "    </tr>\n",
              "    <tr>\n",
              "      <th>2</th>\n",
              "      <td>0.607279</td>\n",
              "      <td>0.615280</td>\n",
              "      <td>144.0</td>\n",
              "      <td>2</td>\n",
              "      <td>0train</td>\n",
              "      <td>22</td>\n",
              "      <td>2</td>\n",
              "      <td>BNCI2014-001</td>\n",
              "      <td>csp+lda</td>\n",
              "    </tr>\n",
              "    <tr>\n",
              "      <th>3</th>\n",
              "      <td>0.698435</td>\n",
              "      <td>0.611219</td>\n",
              "      <td>144.0</td>\n",
              "      <td>2</td>\n",
              "      <td>1test</td>\n",
              "      <td>22</td>\n",
              "      <td>2</td>\n",
              "      <td>BNCI2014-001</td>\n",
              "      <td>csp+lda</td>\n",
              "    </tr>\n",
              "    <tr>\n",
              "      <th>4</th>\n",
              "      <td>0.982857</td>\n",
              "      <td>0.578352</td>\n",
              "      <td>144.0</td>\n",
              "      <td>3</td>\n",
              "      <td>0train</td>\n",
              "      <td>22</td>\n",
              "      <td>2</td>\n",
              "      <td>BNCI2014-001</td>\n",
              "      <td>csp+lda</td>\n",
              "    </tr>\n",
              "    <tr>\n",
              "      <th>5</th>\n",
              "      <td>0.995918</td>\n",
              "      <td>0.586513</td>\n",
              "      <td>144.0</td>\n",
              "      <td>3</td>\n",
              "      <td>1test</td>\n",
              "      <td>22</td>\n",
              "      <td>2</td>\n",
              "      <td>BNCI2014-001</td>\n",
              "      <td>csp+lda</td>\n",
              "    </tr>\n",
              "    <tr>\n",
              "      <th>6</th>\n",
              "      <td>0.823401</td>\n",
              "      <td>0.617691</td>\n",
              "      <td>144.0</td>\n",
              "      <td>4</td>\n",
              "      <td>0train</td>\n",
              "      <td>22</td>\n",
              "      <td>2</td>\n",
              "      <td>BNCI2014-001</td>\n",
              "      <td>csp+lda</td>\n",
              "    </tr>\n",
              "    <tr>\n",
              "      <th>7</th>\n",
              "      <td>0.865510</td>\n",
              "      <td>0.588907</td>\n",
              "      <td>144.0</td>\n",
              "      <td>4</td>\n",
              "      <td>1test</td>\n",
              "      <td>22</td>\n",
              "      <td>2</td>\n",
              "      <td>BNCI2014-001</td>\n",
              "      <td>csp+lda</td>\n",
              "    </tr>\n",
              "    <tr>\n",
              "      <th>8</th>\n",
              "      <td>0.593469</td>\n",
              "      <td>0.583477</td>\n",
              "      <td>144.0</td>\n",
              "      <td>5</td>\n",
              "      <td>0train</td>\n",
              "      <td>22</td>\n",
              "      <td>2</td>\n",
              "      <td>BNCI2014-001</td>\n",
              "      <td>csp+lda</td>\n",
              "    </tr>\n",
              "    <tr>\n",
              "      <th>9</th>\n",
              "      <td>0.592993</td>\n",
              "      <td>0.596675</td>\n",
              "      <td>144.0</td>\n",
              "      <td>5</td>\n",
              "      <td>1test</td>\n",
              "      <td>22</td>\n",
              "      <td>2</td>\n",
              "      <td>BNCI2014-001</td>\n",
              "      <td>csp+lda</td>\n",
              "    </tr>\n",
              "    <tr>\n",
              "      <th>10</th>\n",
              "      <td>0.759252</td>\n",
              "      <td>0.600564</td>\n",
              "      <td>144.0</td>\n",
              "      <td>6</td>\n",
              "      <td>0train</td>\n",
              "      <td>22</td>\n",
              "      <td>2</td>\n",
              "      <td>BNCI2014-001</td>\n",
              "      <td>csp+lda</td>\n",
              "    </tr>\n",
              "    <tr>\n",
              "      <th>11</th>\n",
              "      <td>0.723537</td>\n",
              "      <td>0.586359</td>\n",
              "      <td>144.0</td>\n",
              "      <td>6</td>\n",
              "      <td>1test</td>\n",
              "      <td>22</td>\n",
              "      <td>2</td>\n",
              "      <td>BNCI2014-001</td>\n",
              "      <td>csp+lda</td>\n",
              "    </tr>\n",
              "    <tr>\n",
              "      <th>12</th>\n",
              "      <td>0.862177</td>\n",
              "      <td>0.609511</td>\n",
              "      <td>144.0</td>\n",
              "      <td>7</td>\n",
              "      <td>0train</td>\n",
              "      <td>22</td>\n",
              "      <td>2</td>\n",
              "      <td>BNCI2014-001</td>\n",
              "      <td>csp+lda</td>\n",
              "    </tr>\n",
              "    <tr>\n",
              "      <th>13</th>\n",
              "      <td>0.977483</td>\n",
              "      <td>0.585050</td>\n",
              "      <td>144.0</td>\n",
              "      <td>7</td>\n",
              "      <td>1test</td>\n",
              "      <td>22</td>\n",
              "      <td>2</td>\n",
              "      <td>BNCI2014-001</td>\n",
              "      <td>csp+lda</td>\n",
              "    </tr>\n",
              "    <tr>\n",
              "      <th>14</th>\n",
              "      <td>1.000000</td>\n",
              "      <td>0.604455</td>\n",
              "      <td>144.0</td>\n",
              "      <td>8</td>\n",
              "      <td>0train</td>\n",
              "      <td>22</td>\n",
              "      <td>2</td>\n",
              "      <td>BNCI2014-001</td>\n",
              "      <td>csp+lda</td>\n",
              "    </tr>\n",
              "    <tr>\n",
              "      <th>15</th>\n",
              "      <td>0.994218</td>\n",
              "      <td>0.576589</td>\n",
              "      <td>144.0</td>\n",
              "      <td>8</td>\n",
              "      <td>1test</td>\n",
              "      <td>22</td>\n",
              "      <td>2</td>\n",
              "      <td>BNCI2014-001</td>\n",
              "      <td>csp+lda</td>\n",
              "    </tr>\n",
              "    <tr>\n",
              "      <th>16</th>\n",
              "      <td>0.838163</td>\n",
              "      <td>0.593150</td>\n",
              "      <td>144.0</td>\n",
              "      <td>9</td>\n",
              "      <td>0train</td>\n",
              "      <td>22</td>\n",
              "      <td>2</td>\n",
              "      <td>BNCI2014-001</td>\n",
              "      <td>csp+lda</td>\n",
              "    </tr>\n",
              "    <tr>\n",
              "      <th>17</th>\n",
              "      <td>0.967483</td>\n",
              "      <td>0.591220</td>\n",
              "      <td>144.0</td>\n",
              "      <td>9</td>\n",
              "      <td>1test</td>\n",
              "      <td>22</td>\n",
              "      <td>2</td>\n",
              "      <td>BNCI2014-001</td>\n",
              "      <td>csp+lda</td>\n",
              "    </tr>\n",
              "  </tbody>\n",
              "</table>\n",
              "</div>"
            ],
            "text/plain": [
              "       score      time  samples subject session  channels  n_sessions  \\\n",
              "0   0.919320  0.607638    144.0       1  0train        22           2   \n",
              "1   0.955918  0.577577    144.0       1   1test        22           2   \n",
              "2   0.607279  0.615280    144.0       2  0train        22           2   \n",
              "3   0.698435  0.611219    144.0       2   1test        22           2   \n",
              "4   0.982857  0.578352    144.0       3  0train        22           2   \n",
              "5   0.995918  0.586513    144.0       3   1test        22           2   \n",
              "6   0.823401  0.617691    144.0       4  0train        22           2   \n",
              "7   0.865510  0.588907    144.0       4   1test        22           2   \n",
              "8   0.593469  0.583477    144.0       5  0train        22           2   \n",
              "9   0.592993  0.596675    144.0       5   1test        22           2   \n",
              "10  0.759252  0.600564    144.0       6  0train        22           2   \n",
              "11  0.723537  0.586359    144.0       6   1test        22           2   \n",
              "12  0.862177  0.609511    144.0       7  0train        22           2   \n",
              "13  0.977483  0.585050    144.0       7   1test        22           2   \n",
              "14  1.000000  0.604455    144.0       8  0train        22           2   \n",
              "15  0.994218  0.576589    144.0       8   1test        22           2   \n",
              "16  0.838163  0.593150    144.0       9  0train        22           2   \n",
              "17  0.967483  0.591220    144.0       9   1test        22           2   \n",
              "\n",
              "         dataset pipeline  \n",
              "0   BNCI2014-001  csp+lda  \n",
              "1   BNCI2014-001  csp+lda  \n",
              "2   BNCI2014-001  csp+lda  \n",
              "3   BNCI2014-001  csp+lda  \n",
              "4   BNCI2014-001  csp+lda  \n",
              "5   BNCI2014-001  csp+lda  \n",
              "6   BNCI2014-001  csp+lda  \n",
              "7   BNCI2014-001  csp+lda  \n",
              "8   BNCI2014-001  csp+lda  \n",
              "9   BNCI2014-001  csp+lda  \n",
              "10  BNCI2014-001  csp+lda  \n",
              "11  BNCI2014-001  csp+lda  \n",
              "12  BNCI2014-001  csp+lda  \n",
              "13  BNCI2014-001  csp+lda  \n",
              "14  BNCI2014-001  csp+lda  \n",
              "15  BNCI2014-001  csp+lda  \n",
              "16  BNCI2014-001  csp+lda  \n",
              "17  BNCI2014-001  csp+lda  "
            ]
          },
          "execution_count": 13,
          "metadata": {},
          "output_type": "execute_result"
        }
      ],
      "source": [
        "results"
      ]
    },
    {
      "cell_type": "markdown",
      "metadata": {},
      "source": [
        "## Plotting Results\n",
        "\n",
        "We create a figure with the seaborn package comparing the classification\n",
        "score for each subject on each session. Note that the 'subject' field from\n",
        "the `results` is given in terms of integers, but seaborn accepts only\n",
        "strings for its labeling. This is why we create the field 'subj'.\n",
        "\n"
      ]
    },
    {
      "cell_type": "code",
      "execution_count": 14,
      "metadata": {
        "collapsed": false
      },
      "outputs": [
        {
          "data": {
            "image/png": "[encoded data removed]",
            "text/plain": [
              "<Figure size 800x700 with 1 Axes>"
            ]
          },
          "metadata": {},
          "output_type": "display_data"
        }
      ],
      "source": [
        "fig, ax = plt.subplots(figsize=(8, 7))\n",
        "results[\"subj\"] = results[\"subject\"].apply(str)\n",
        "sns.barplot(\n",
        "    x=\"score\", y=\"subj\", hue=\"session\", data=results, orient=\"h\", palette=\"viridis\", ax=ax\n",
        ")\n",
        "plt.show()"
      ]
    }
  ],
  "metadata": {
    "kernelspec": {
      "display_name": "Python 3",
      "language": "python",
      "name": "python3"
    },
    "language_info": {
      "codemirror_mode": {
        "name": "ipython",
        "version": 3
      },
      "file_extension": ".py",
      "mimetype": "text/x-python",
      "name": "python",
      "nbconvert_exporter": "python",
      "pygments_lexer": "ipython3",
      "version": "3.9.19"
    }
  },
  "nbformat": 4,
  "nbformat_minor": 0
}
