{
  "cells": [
    {
      "cell_type": "code",
      "execution_count": 15,
      "metadata": {
        "collapsed": false
      },
      "outputs": [],
      "source": [
        "%matplotlib inline"
      ]
    },
    {
      "cell_type": "markdown",
      "metadata": {},
      "source": [
        "\n",
        "# Tutorial 1: Simple Motor Imagery\n",
        "\n",
        "In this example, we will go through all the steps to make a simple BCI\n",
        "classification task, downloading a dataset and using a standard classifier. We\n",
        "choose the dataset 2a from BCI Competition IV, a motor imagery task. We will\n",
        "use a CSP to enhance the signal-to-noise ratio of the EEG epochs and a LDA to\n",
        "classify these signals.\n"
      ]
    },
    {
      "cell_type": "code",
      "execution_count": 16,
      "metadata": {
        "collapsed": false
      },
      "outputs": [],
      "source": [
        "# Authors: Pedro L. C. Rodrigues, Sylvain Chevallier\n",
        "#\n",
        "# https://github.com/plcrodrigues/Workshop-MOABB-BCI-Graz-2019\n",
        "\n",
        "import warnings\n",
        "\n",
        "import matplotlib.pyplot as plt\n",
        "import pandas as pd\n",
        "import seaborn as sns\n",
        "from mne.decoding import CSP\n",
        "from sklearn.discriminant_analysis import LinearDiscriminantAnalysis as LDA\n",
        "from sklearn.pipeline import make_pipeline\n",
        "\n",
        "import moabb\n",
        "from moabb.datasets import BNCI2014_001\n",
        "from moabb.evaluations import WithinSessionEvaluation\n",
        "from moabb.paradigms import LeftRightImagery\n",
        "\n",
        "\n",
        "moabb.set_log_level(\"info\")\n",
        "warnings.filterwarnings(\"ignore\")"
      ]
    },
    {
      "cell_type": "markdown",
      "metadata": {},
      "source": [
        "## Instantiating Dataset\n",
        "\n",
        "The first thing to do is to instantiate the dataset that we want to analyze.\n",
        "MOABB has a list of many different datasets, each one containing all the\n",
        "necessary information for describing them, such as the number of subjects,\n",
        "size of trials, names of classes, etc.\n",
        "\n",
        "The dataset class has methods for:\n",
        "\n",
        "- downloading its files from some online source (e.g. Zenodo)\n",
        "- importing the data from the files in whatever extension they might be\n",
        "  (like .mat, .gdf, etc.) and instantiate a Raw object from the MNE package\n",
        "\n"
      ]
    },
    {
      "cell_type": "code",
      "execution_count": 17,
      "metadata": {
        "collapsed": false
      },
      "outputs": [],
      "source": [
        "dataset = BNCI2014_001()\n",
        "#dataset.subject_list = [1, 2, 3]"
      ]
    },
    {
      "cell_type": "markdown",
      "metadata": {},
      "source": [
        "## Accessing EEG Recording\n",
        "\n",
        "As an example, we may access the EEG recording from a given session and a\n",
        "given run as follows:\n",
        "\n"
      ]
    },
    {
      "cell_type": "code",
      "execution_count": 18,
      "metadata": {
        "collapsed": false
      },
      "outputs": [
        {
          "data": {
            "text/plain": [
              "{1: {'0train': {'0': <RawArray | 26 x 96735 (386.9 s), ~19.2 MB, data loaded>,\n",
              "   '1': <RawArray | 26 x 96735 (386.9 s), ~19.2 MB, data loaded>,\n",
              "   '2': <RawArray | 26 x 96735 (386.9 s), ~19.2 MB, data loaded>,\n",
              "   '3': <RawArray | 26 x 96735 (386.9 s), ~19.2 MB, data loaded>,\n",
              "   '4': <RawArray | 26 x 96735 (386.9 s), ~19.2 MB, data loaded>,\n",
              "   '5': <RawArray | 26 x 96735 (386.9 s), ~19.2 MB, data loaded>},\n",
              "  '1test': {'0': <RawArray | 26 x 96735 (386.9 s), ~19.2 MB, data loaded>,\n",
              "   '1': <RawArray | 26 x 96735 (386.9 s), ~19.2 MB, data loaded>,\n",
              "   '2': <RawArray | 26 x 96735 (386.9 s), ~19.2 MB, data loaded>,\n",
              "   '3': <RawArray | 26 x 96735 (386.9 s), ~19.2 MB, data loaded>,\n",
              "   '4': <RawArray | 26 x 96735 (386.9 s), ~19.2 MB, data loaded>,\n",
              "   '5': <RawArray | 26 x 96735 (386.9 s), ~19.2 MB, data loaded>}}}"
            ]
          },
          "execution_count": 18,
          "metadata": {},
          "output_type": "execute_result"
        }
      ],
      "source": [
        "dataset.allow_add_noise()\n",
        "sessions = dataset.get_data(subjects=[1])\n",
        "sessions"
      ]
    },
    {
      "cell_type": "markdown",
      "metadata": {},
      "source": [
        "This returns a MNE Raw object that can be manipulated. This might be enough\n",
        "for some users, since the pre-processing and epoching steps can be easily\n",
        "done via MNE. However, to conduct an assessment of several classifiers on\n",
        "multiple subjects, MOABB ends up being a more appropriate option.\n",
        "\n"
      ]
    },
    {
      "cell_type": "code",
      "execution_count": 19,
      "metadata": {
        "collapsed": false
      },
      "outputs": [
        {
          "data": {
            "text/plain": [
              "array([[-2.63611996e-01,  2.25598595e-01, -3.51646488e-01, ...,\n",
              "        -8.90423642e-01,  4.96907527e-02,  6.21905929e-01],\n",
              "       [-7.19101145e-02, -1.13250053e-01,  5.39603859e-03, ...,\n",
              "         1.45651065e-01,  5.34693731e-01,  5.59484542e-02],\n",
              "       [-2.45879256e-01, -7.73719897e-02, -3.07894358e-01, ...,\n",
              "         7.62572636e-02, -6.69848622e-01,  9.22554788e-01],\n",
              "       ...,\n",
              "       [ 2.05078125e-05,  7.81250000e-06,  1.36718750e-05, ...,\n",
              "         4.58984375e-05,  3.85742188e-05,  3.95507813e-05],\n",
              "       [ 5.85937500e-06, -4.88281250e-06, -4.88281250e-07, ...,\n",
              "        -4.39453125e-06, -4.39453125e-06, -1.07421875e-05],\n",
              "       [ 0.00000000e+00,  0.00000000e+00,  0.00000000e+00, ...,\n",
              "         0.00000000e+00,  0.00000000e+00,  0.00000000e+00]])"
            ]
          },
          "execution_count": 19,
          "metadata": {},
          "output_type": "execute_result"
        }
      ],
      "source": [
        "subject = 1\n",
        "session_name = \"0train\"\n",
        "run_name = \"0\"\n",
        "raw = sessions[subject][session_name][run_name]\n",
        "raw.get_data()"
      ]
    },
    {
      "cell_type": "markdown",
      "metadata": {},
      "source": [
        "## Choosing a Paradigm\n",
        "\n",
        "Once we have instantiated a dataset, we have to choose a paradigm. This\n",
        "object is responsible for filtering the data, epoching it, and extracting\n",
        "the labels for each epoch. Note that each dataset comes with the names of\n",
        "the paradigms to which it might be associated. It would not make sense to\n",
        "process a P300 dataset with a MI paradigm object.\n",
        "\n"
      ]
    },
    {
      "cell_type": "code",
      "execution_count": 20,
      "metadata": {
        "collapsed": false
      },
      "outputs": [
        {
          "name": "stdout",
          "output_type": "stream",
          "text": [
            "imagery\n"
          ]
        }
      ],
      "source": [
        "print(dataset.paradigm)"
      ]
    },
    {
      "cell_type": "markdown",
      "metadata": {},
      "source": [
        "For the example below, we will consider the paradigm associated to\n",
        "left-hand/right-hand motor imagery task, but there are other options in\n",
        "MOABB for motor imagery, P300 or SSVEP.\n",
        "\n"
      ]
    },
    {
      "cell_type": "code",
      "execution_count": 21,
      "metadata": {
        "collapsed": false
      },
      "outputs": [],
      "source": [
        "paradigm = LeftRightImagery()"
      ]
    },
    {
      "cell_type": "markdown",
      "metadata": {},
      "source": [
        "We may check the list of all datasets available in MOABB for using with this\n",
        "paradigm (note that BNCI2014_001 is in it)\n",
        "\n"
      ]
    },
    {
      "cell_type": "code",
      "execution_count": 22,
      "metadata": {
        "collapsed": false
      },
      "outputs": [
        {
          "name": "stdout",
          "output_type": "stream",
          "text": [
            "[<moabb.datasets.bnci.BNCI2014_001 object at 0x17f836400>, <moabb.datasets.bnci.BNCI2014_004 object at 0x10e4dbc10>, <moabb.datasets.gigadb.Cho2017 object at 0x10e4dbd60>, <moabb.datasets.mpi_mi.GrosseWentrup2009 object at 0x17f836e20>, <moabb.datasets.Lee2019.Lee2019_MI object at 0x17fbcbdc0>, <moabb.datasets.liu2024.Liu2024 object at 0x17fbcbbe0>, <moabb.datasets.physionet_mi.PhysionetMI object at 0x104c052b0>, <moabb.datasets.schirrmeister2017.Schirrmeister2017 object at 0x175516bb0>, <moabb.datasets.bbci_eeg_fnirs.Shin2017A object at 0x17f850df0>, <moabb.datasets.stieger2021.Stieger2021 object at 0x1755161f0>, <moabb.datasets.Weibo2014.Weibo2014 object at 0x17fbe68e0>, <moabb.datasets.Zhou2016.Zhou2016 object at 0x17fbe6670>]\n"
          ]
        }
      ],
      "source": [
        "print(paradigm.datasets)"
      ]
    },
    {
      "cell_type": "markdown",
      "metadata": {},
      "source": [
        "The data from a list of subjects could be preprocessed and return as a 3D\n",
        "numpy array `X`, follow a scikit-like format with the associated `labels`.\n",
        "The `meta` object contains all information regarding the subject, the\n",
        "session and the run associated to each trial.\n",
        "\n"
      ]
    },
    {
      "cell_type": "code",
      "execution_count": 23,
      "metadata": {
        "collapsed": false
      },
      "outputs": [],
      "source": [
        "X, labels, meta = paradigm.get_data(dataset=dataset, subjects=[1])"
      ]
    },
    {
      "cell_type": "markdown",
      "metadata": {},
      "source": [
        "## Create Pipeline\n",
        "\n",
        "Our goal is to evaluate the performance of a given classification pipeline\n",
        "(or several of them) when it is applied to the epochs from the previously\n",
        "chosen dataset. We will consider a very simple classification pipeline in\n",
        "which the dimension of the epochs are reduced via a CSP step and then\n",
        "classified via a linear discriminant analysis.\n",
        "\n"
      ]
    },
    {
      "cell_type": "code",
      "execution_count": 24,
      "metadata": {
        "collapsed": false
      },
      "outputs": [],
      "source": [
        "pipeline = make_pipeline(CSP(n_components=8), LDA())"
      ]
    },
    {
      "cell_type": "markdown",
      "metadata": {},
      "source": [
        "## Evaluation\n",
        "\n",
        "To evaluate the score of this pipeline, we use the `evaluation` class. When\n",
        "instantiating it, we say which paradigm we want to consider, a list with the\n",
        "datasets to analyze, and whether the scores should be recalculated each time\n",
        "we run the evaluation or if MOABB should create a cache file.\n",
        "\n",
        "Note that there are different ways of evaluating a classifier; in this\n",
        "example, we choose `WithinSessionEvaluation`, which consists of doing a\n",
        "cross-validation procedure where the training and testing partitions are from\n",
        "the same recording session of the dataset. We could have used\n",
        "`CrossSessionEvaluation`, which takes all but one session as training\n",
        "partition and the remaining one as testing partition.\n",
        "\n"
      ]
    },
    {
      "cell_type": "code",
      "execution_count": 25,
      "metadata": {
        "collapsed": false
      },
      "outputs": [],
      "source": [
        "evaluation = WithinSessionEvaluation(\n",
        "    paradigm=paradigm,\n",
        "    datasets=[dataset],\n",
        "    overwrite=True,\n",
        "    hdf5_path=None,\n",
        ")"
      ]
    },
    {
      "cell_type": "markdown",
      "metadata": {},
      "source": [
        "We obtain the results in the form of a pandas dataframe\n",
        "\n"
      ]
    },
    {
      "cell_type": "code",
      "execution_count": 26,
      "metadata": {
        "collapsed": false
      },
      "outputs": [
        {
          "name": "stderr",
          "output_type": "stream",
          "text": [
            "2024-07-24 23:13:09,522 INFO MainThread moabb.evaluations.base Processing dataset: BNCI2014-001\n",
            "BNCI2014-001-WithinSession:   0%|          | 0/9 [00:00<?, ?it/s]"
          ]
        },
        {
          "name": "stdout",
          "output_type": "stream",
          "text": [
            "No hdf5_path provided, models will not be saved.\n"
          ]
        },
        {
          "name": "stderr",
          "output_type": "stream",
          "text": [
            "2024-07-24 23:13:15,192 INFO MainThread moabb.evaluations.base csp+lda | BNCI2014-001 | 1 | 0train: Score 0.470\n"
          ]
        },
        {
          "name": "stdout",
          "output_type": "stream",
          "text": [
            "No hdf5_path provided, models will not be saved.\n"
          ]
        },
        {
          "name": "stderr",
          "output_type": "stream",
          "text": [
            "2024-07-24 23:13:18,477 INFO MainThread moabb.evaluations.base csp+lda | BNCI2014-001 | 1 | 1test: Score 0.474\n",
            "BNCI2014-001-WithinSession:  11%|█         | 1/9 [00:09<01:12,  9.08s/it]"
          ]
        },
        {
          "name": "stdout",
          "output_type": "stream",
          "text": [
            "No hdf5_path provided, models will not be saved.\n"
          ]
        },
        {
          "name": "stderr",
          "output_type": "stream",
          "text": [
            "2024-07-24 23:13:23,935 INFO MainThread moabb.evaluations.base csp+lda | BNCI2014-001 | 2 | 0train: Score 0.613\n"
          ]
        },
        {
          "name": "stdout",
          "output_type": "stream",
          "text": [
            "No hdf5_path provided, models will not be saved.\n"
          ]
        },
        {
          "name": "stderr",
          "output_type": "stream",
          "text": [
            "2024-07-24 23:13:27,403 INFO MainThread moabb.evaluations.base csp+lda | BNCI2014-001 | 2 | 1test: Score 0.528\n",
            "BNCI2014-001-WithinSession:  22%|██▏       | 2/9 [00:18<01:02,  8.99s/it]"
          ]
        },
        {
          "name": "stdout",
          "output_type": "stream",
          "text": [
            "No hdf5_path provided, models will not be saved.\n"
          ]
        },
        {
          "name": "stderr",
          "output_type": "stream",
          "text": [
            "2024-07-24 23:13:32,966 INFO MainThread moabb.evaluations.base csp+lda | BNCI2014-001 | 3 | 0train: Score 0.569\n"
          ]
        },
        {
          "name": "stdout",
          "output_type": "stream",
          "text": [
            "No hdf5_path provided, models will not be saved.\n"
          ]
        },
        {
          "name": "stderr",
          "output_type": "stream",
          "text": [
            "2024-07-24 23:13:36,176 INFO MainThread moabb.evaluations.base csp+lda | BNCI2014-001 | 3 | 1test: Score 0.649\n",
            "BNCI2014-001-WithinSession:  33%|███▎      | 3/9 [00:26<00:53,  8.88s/it]"
          ]
        },
        {
          "name": "stdout",
          "output_type": "stream",
          "text": [
            "No hdf5_path provided, models will not be saved.\n"
          ]
        },
        {
          "name": "stderr",
          "output_type": "stream",
          "text": [
            "2024-07-24 23:13:41,454 INFO MainThread moabb.evaluations.base csp+lda | BNCI2014-001 | 4 | 0train: Score 0.481\n"
          ]
        },
        {
          "name": "stdout",
          "output_type": "stream",
          "text": [
            "No hdf5_path provided, models will not be saved.\n"
          ]
        },
        {
          "name": "stderr",
          "output_type": "stream",
          "text": [
            "2024-07-24 23:13:44,779 INFO MainThread moabb.evaluations.base csp+lda | BNCI2014-001 | 4 | 1test: Score 0.443\n",
            "BNCI2014-001-WithinSession:  44%|████▍     | 4/9 [00:35<00:43,  8.77s/it]"
          ]
        },
        {
          "name": "stdout",
          "output_type": "stream",
          "text": [
            "No hdf5_path provided, models will not be saved.\n"
          ]
        },
        {
          "name": "stderr",
          "output_type": "stream",
          "text": [
            "2024-07-24 23:13:50,200 INFO MainThread moabb.evaluations.base csp+lda | BNCI2014-001 | 5 | 0train: Score 0.679\n"
          ]
        },
        {
          "name": "stdout",
          "output_type": "stream",
          "text": [
            "No hdf5_path provided, models will not be saved.\n"
          ]
        },
        {
          "name": "stderr",
          "output_type": "stream",
          "text": [
            "2024-07-24 23:13:53,292 INFO MainThread moabb.evaluations.base csp+lda | BNCI2014-001 | 5 | 1test: Score 0.457\n",
            "BNCI2014-001-WithinSession:  56%|█████▌    | 5/9 [00:43<00:34,  8.69s/it]"
          ]
        },
        {
          "name": "stdout",
          "output_type": "stream",
          "text": [
            "No hdf5_path provided, models will not be saved.\n"
          ]
        },
        {
          "name": "stderr",
          "output_type": "stream",
          "text": [
            "2024-07-24 23:13:58,613 INFO MainThread moabb.evaluations.base csp+lda | BNCI2014-001 | 6 | 0train: Score 0.521\n"
          ]
        },
        {
          "name": "stdout",
          "output_type": "stream",
          "text": [
            "No hdf5_path provided, models will not be saved.\n"
          ]
        },
        {
          "name": "stderr",
          "output_type": "stream",
          "text": [
            "2024-07-24 23:14:01,821 INFO MainThread moabb.evaluations.base csp+lda | BNCI2014-001 | 6 | 1test: Score 0.468\n",
            "BNCI2014-001-WithinSession:  67%|██████▋   | 6/9 [00:52<00:25,  8.64s/it]"
          ]
        },
        {
          "name": "stdout",
          "output_type": "stream",
          "text": [
            "No hdf5_path provided, models will not be saved.\n"
          ]
        },
        {
          "name": "stderr",
          "output_type": "stream",
          "text": [
            "2024-07-24 23:14:07,286 INFO MainThread moabb.evaluations.base csp+lda | BNCI2014-001 | 7 | 0train: Score 0.416\n"
          ]
        },
        {
          "name": "stdout",
          "output_type": "stream",
          "text": [
            "No hdf5_path provided, models will not be saved.\n"
          ]
        },
        {
          "name": "stderr",
          "output_type": "stream",
          "text": [
            "2024-07-24 23:14:10,499 INFO MainThread moabb.evaluations.base csp+lda | BNCI2014-001 | 7 | 1test: Score 0.616\n",
            "BNCI2014-001-WithinSession:  78%|███████▊  | 7/9 [01:01<00:17,  8.65s/it]"
          ]
        },
        {
          "name": "stdout",
          "output_type": "stream",
          "text": [
            "No hdf5_path provided, models will not be saved.\n"
          ]
        },
        {
          "name": "stderr",
          "output_type": "stream",
          "text": [
            "2024-07-24 23:14:16,300 INFO MainThread moabb.evaluations.base csp+lda | BNCI2014-001 | 8 | 0train: Score 0.514\n"
          ]
        },
        {
          "name": "stdout",
          "output_type": "stream",
          "text": [
            "No hdf5_path provided, models will not be saved.\n"
          ]
        },
        {
          "name": "stderr",
          "output_type": "stream",
          "text": [
            "2024-07-24 23:14:19,486 INFO MainThread moabb.evaluations.base csp+lda | BNCI2014-001 | 8 | 1test: Score 0.529\n",
            "BNCI2014-001-WithinSession:  89%|████████▉ | 8/9 [01:10<00:08,  8.76s/it]"
          ]
        },
        {
          "name": "stdout",
          "output_type": "stream",
          "text": [
            "No hdf5_path provided, models will not be saved.\n"
          ]
        },
        {
          "name": "stderr",
          "output_type": "stream",
          "text": [
            "2024-07-24 23:14:24,880 INFO MainThread moabb.evaluations.base csp+lda | BNCI2014-001 | 9 | 0train: Score 0.509\n"
          ]
        },
        {
          "name": "stdout",
          "output_type": "stream",
          "text": [
            "No hdf5_path provided, models will not be saved.\n"
          ]
        },
        {
          "name": "stderr",
          "output_type": "stream",
          "text": [
            "2024-07-24 23:14:28,098 INFO MainThread moabb.evaluations.base csp+lda | BNCI2014-001 | 9 | 1test: Score 0.402\n",
            "BNCI2014-001-WithinSession: 100%|██████████| 9/9 [01:18<00:00,  8.75s/it]\n"
          ]
        }
      ],
      "source": [
        "results = evaluation.process({\"csp+lda\": pipeline})"
      ]
    },
    {
      "cell_type": "markdown",
      "metadata": {},
      "source": [
        "The results are stored in locally, to avoid recomputing the results each time.\n",
        "It is saved in `hdf5_path` if defined or in ~/mne_data/results  otherwise.\n",
        "To export the results in CSV:\n",
        "\n"
      ]
    },
    {
      "cell_type": "code",
      "execution_count": 27,
      "metadata": {},
      "outputs": [
        {
          "data": {
            "text/html": [
              "<div>\n",
              "<style scoped>\n",
              "    .dataframe tbody tr th:only-of-type {\n",
              "        vertical-align: middle;\n",
              "    }\n",
              "\n",
              "    .dataframe tbody tr th {\n",
              "        vertical-align: top;\n",
              "    }\n",
              "\n",
              "    .dataframe thead th {\n",
              "        text-align: right;\n",
              "    }\n",
              "</style>\n",
              "<table border=\"1\" class=\"dataframe\">\n",
              "  <thead>\n",
              "    <tr style=\"text-align: right;\">\n",
              "      <th></th>\n",
              "      <th>score</th>\n",
              "      <th>time</th>\n",
              "      <th>samples</th>\n",
              "      <th>subject</th>\n",
              "      <th>session</th>\n",
              "      <th>channels</th>\n",
              "      <th>n_sessions</th>\n",
              "      <th>dataset</th>\n",
              "      <th>pipeline</th>\n",
              "    </tr>\n",
              "  </thead>\n",
              "  <tbody>\n",
              "    <tr>\n",
              "      <th>0</th>\n",
              "      <td>0.470476</td>\n",
              "      <td>0.696333</td>\n",
              "      <td>144.0</td>\n",
              "      <td>1</td>\n",
              "      <td>0train</td>\n",
              "      <td>22</td>\n",
              "      <td>2</td>\n",
              "      <td>BNCI2014-001</td>\n",
              "      <td>csp+lda</td>\n",
              "    </tr>\n",
              "    <tr>\n",
              "      <th>1</th>\n",
              "      <td>0.474490</td>\n",
              "      <td>0.610693</td>\n",
              "      <td>144.0</td>\n",
              "      <td>1</td>\n",
              "      <td>1test</td>\n",
              "      <td>22</td>\n",
              "      <td>2</td>\n",
              "      <td>BNCI2014-001</td>\n",
              "      <td>csp+lda</td>\n",
              "    </tr>\n",
              "    <tr>\n",
              "      <th>2</th>\n",
              "      <td>0.613401</td>\n",
              "      <td>0.621129</td>\n",
              "      <td>144.0</td>\n",
              "      <td>2</td>\n",
              "      <td>0train</td>\n",
              "      <td>22</td>\n",
              "      <td>2</td>\n",
              "      <td>BNCI2014-001</td>\n",
              "      <td>csp+lda</td>\n",
              "    </tr>\n",
              "    <tr>\n",
              "      <th>3</th>\n",
              "      <td>0.527755</td>\n",
              "      <td>0.661810</td>\n",
              "      <td>144.0</td>\n",
              "      <td>2</td>\n",
              "      <td>1test</td>\n",
              "      <td>22</td>\n",
              "      <td>2</td>\n",
              "      <td>BNCI2014-001</td>\n",
              "      <td>csp+lda</td>\n",
              "    </tr>\n",
              "    <tr>\n",
              "      <th>4</th>\n",
              "      <td>0.568912</td>\n",
              "      <td>0.646926</td>\n",
              "      <td>144.0</td>\n",
              "      <td>3</td>\n",
              "      <td>0train</td>\n",
              "      <td>22</td>\n",
              "      <td>2</td>\n",
              "      <td>BNCI2014-001</td>\n",
              "      <td>csp+lda</td>\n",
              "    </tr>\n",
              "    <tr>\n",
              "      <th>5</th>\n",
              "      <td>0.648912</td>\n",
              "      <td>0.611633</td>\n",
              "      <td>144.0</td>\n",
              "      <td>3</td>\n",
              "      <td>1test</td>\n",
              "      <td>22</td>\n",
              "      <td>2</td>\n",
              "      <td>BNCI2014-001</td>\n",
              "      <td>csp+lda</td>\n",
              "    </tr>\n",
              "    <tr>\n",
              "      <th>6</th>\n",
              "      <td>0.481361</td>\n",
              "      <td>0.611821</td>\n",
              "      <td>144.0</td>\n",
              "      <td>4</td>\n",
              "      <td>0train</td>\n",
              "      <td>22</td>\n",
              "      <td>2</td>\n",
              "      <td>BNCI2014-001</td>\n",
              "      <td>csp+lda</td>\n",
              "    </tr>\n",
              "    <tr>\n",
              "      <th>7</th>\n",
              "      <td>0.442721</td>\n",
              "      <td>0.620136</td>\n",
              "      <td>144.0</td>\n",
              "      <td>4</td>\n",
              "      <td>1test</td>\n",
              "      <td>22</td>\n",
              "      <td>2</td>\n",
              "      <td>BNCI2014-001</td>\n",
              "      <td>csp+lda</td>\n",
              "    </tr>\n",
              "    <tr>\n",
              "      <th>8</th>\n",
              "      <td>0.678844</td>\n",
              "      <td>0.614136</td>\n",
              "      <td>144.0</td>\n",
              "      <td>5</td>\n",
              "      <td>0train</td>\n",
              "      <td>22</td>\n",
              "      <td>2</td>\n",
              "      <td>BNCI2014-001</td>\n",
              "      <td>csp+lda</td>\n",
              "    </tr>\n",
              "    <tr>\n",
              "      <th>9</th>\n",
              "      <td>0.456599</td>\n",
              "      <td>0.594333</td>\n",
              "      <td>144.0</td>\n",
              "      <td>5</td>\n",
              "      <td>1test</td>\n",
              "      <td>22</td>\n",
              "      <td>2</td>\n",
              "      <td>BNCI2014-001</td>\n",
              "      <td>csp+lda</td>\n",
              "    </tr>\n",
              "    <tr>\n",
              "      <th>10</th>\n",
              "      <td>0.521497</td>\n",
              "      <td>0.598893</td>\n",
              "      <td>144.0</td>\n",
              "      <td>6</td>\n",
              "      <td>0train</td>\n",
              "      <td>22</td>\n",
              "      <td>2</td>\n",
              "      <td>BNCI2014-001</td>\n",
              "      <td>csp+lda</td>\n",
              "    </tr>\n",
              "    <tr>\n",
              "      <th>11</th>\n",
              "      <td>0.467551</td>\n",
              "      <td>0.616235</td>\n",
              "      <td>144.0</td>\n",
              "      <td>6</td>\n",
              "      <td>1test</td>\n",
              "      <td>22</td>\n",
              "      <td>2</td>\n",
              "      <td>BNCI2014-001</td>\n",
              "      <td>csp+lda</td>\n",
              "    </tr>\n",
              "    <tr>\n",
              "      <th>12</th>\n",
              "      <td>0.415578</td>\n",
              "      <td>0.612119</td>\n",
              "      <td>144.0</td>\n",
              "      <td>7</td>\n",
              "      <td>0train</td>\n",
              "      <td>22</td>\n",
              "      <td>2</td>\n",
              "      <td>BNCI2014-001</td>\n",
              "      <td>csp+lda</td>\n",
              "    </tr>\n",
              "    <tr>\n",
              "      <th>13</th>\n",
              "      <td>0.616463</td>\n",
              "      <td>0.613011</td>\n",
              "      <td>144.0</td>\n",
              "      <td>7</td>\n",
              "      <td>1test</td>\n",
              "      <td>22</td>\n",
              "      <td>2</td>\n",
              "      <td>BNCI2014-001</td>\n",
              "      <td>csp+lda</td>\n",
              "    </tr>\n",
              "    <tr>\n",
              "      <th>14</th>\n",
              "      <td>0.513810</td>\n",
              "      <td>0.685282</td>\n",
              "      <td>144.0</td>\n",
              "      <td>8</td>\n",
              "      <td>0train</td>\n",
              "      <td>22</td>\n",
              "      <td>2</td>\n",
              "      <td>BNCI2014-001</td>\n",
              "      <td>csp+lda</td>\n",
              "    </tr>\n",
              "    <tr>\n",
              "      <th>15</th>\n",
              "      <td>0.528844</td>\n",
              "      <td>0.609276</td>\n",
              "      <td>144.0</td>\n",
              "      <td>8</td>\n",
              "      <td>1test</td>\n",
              "      <td>22</td>\n",
              "      <td>2</td>\n",
              "      <td>BNCI2014-001</td>\n",
              "      <td>csp+lda</td>\n",
              "    </tr>\n",
              "    <tr>\n",
              "      <th>16</th>\n",
              "      <td>0.508503</td>\n",
              "      <td>0.596052</td>\n",
              "      <td>144.0</td>\n",
              "      <td>9</td>\n",
              "      <td>0train</td>\n",
              "      <td>22</td>\n",
              "      <td>2</td>\n",
              "      <td>BNCI2014-001</td>\n",
              "      <td>csp+lda</td>\n",
              "    </tr>\n",
              "    <tr>\n",
              "      <th>17</th>\n",
              "      <td>0.401565</td>\n",
              "      <td>0.610443</td>\n",
              "      <td>144.0</td>\n",
              "      <td>9</td>\n",
              "      <td>1test</td>\n",
              "      <td>22</td>\n",
              "      <td>2</td>\n",
              "      <td>BNCI2014-001</td>\n",
              "      <td>csp+lda</td>\n",
              "    </tr>\n",
              "  </tbody>\n",
              "</table>\n",
              "</div>"
            ],
            "text/plain": [
              "       score      time  samples subject session  channels  n_sessions  \\\n",
              "0   0.470476  0.696333    144.0       1  0train        22           2   \n",
              "1   0.474490  0.610693    144.0       1   1test        22           2   \n",
              "2   0.613401  0.621129    144.0       2  0train        22           2   \n",
              "3   0.527755  0.661810    144.0       2   1test        22           2   \n",
              "4   0.568912  0.646926    144.0       3  0train        22           2   \n",
              "5   0.648912  0.611633    144.0       3   1test        22           2   \n",
              "6   0.481361  0.611821    144.0       4  0train        22           2   \n",
              "7   0.442721  0.620136    144.0       4   1test        22           2   \n",
              "8   0.678844  0.614136    144.0       5  0train        22           2   \n",
              "9   0.456599  0.594333    144.0       5   1test        22           2   \n",
              "10  0.521497  0.598893    144.0       6  0train        22           2   \n",
              "11  0.467551  0.616235    144.0       6   1test        22           2   \n",
              "12  0.415578  0.612119    144.0       7  0train        22           2   \n",
              "13  0.616463  0.613011    144.0       7   1test        22           2   \n",
              "14  0.513810  0.685282    144.0       8  0train        22           2   \n",
              "15  0.528844  0.609276    144.0       8   1test        22           2   \n",
              "16  0.508503  0.596052    144.0       9  0train        22           2   \n",
              "17  0.401565  0.610443    144.0       9   1test        22           2   \n",
              "\n",
              "         dataset pipeline  \n",
              "0   BNCI2014-001  csp+lda  \n",
              "1   BNCI2014-001  csp+lda  \n",
              "2   BNCI2014-001  csp+lda  \n",
              "3   BNCI2014-001  csp+lda  \n",
              "4   BNCI2014-001  csp+lda  \n",
              "5   BNCI2014-001  csp+lda  \n",
              "6   BNCI2014-001  csp+lda  \n",
              "7   BNCI2014-001  csp+lda  \n",
              "8   BNCI2014-001  csp+lda  \n",
              "9   BNCI2014-001  csp+lda  \n",
              "10  BNCI2014-001  csp+lda  \n",
              "11  BNCI2014-001  csp+lda  \n",
              "12  BNCI2014-001  csp+lda  \n",
              "13  BNCI2014-001  csp+lda  \n",
              "14  BNCI2014-001  csp+lda  \n",
              "15  BNCI2014-001  csp+lda  \n",
              "16  BNCI2014-001  csp+lda  \n",
              "17  BNCI2014-001  csp+lda  "
            ]
          },
          "execution_count": 27,
          "metadata": {},
          "output_type": "execute_result"
        }
      ],
      "source": [
        "results"
      ]
    },
    {
      "cell_type": "markdown",
      "metadata": {},
      "source": [
        "## Plotting Results\n",
        "\n",
        "We create a figure with the seaborn package comparing the classification\n",
        "score for each subject on each session. Note that the 'subject' field from\n",
        "the `results` is given in terms of integers, but seaborn accepts only\n",
        "strings for its labeling. This is why we create the field 'subj'.\n",
        "\n"
      ]
    },
    {
      "cell_type": "code",
      "execution_count": 28,
      "metadata": {
        "collapsed": false
      },
      "outputs": [
        {
          "data": {
            "image/png": "[encoded data removed]",
            "text/plain": [
              "<Figure size 800x700 with 1 Axes>"
            ]
          },
          "metadata": {},
          "output_type": "display_data"
        }
      ],
      "source": [
        "fig, ax = plt.subplots(figsize=(8, 7))\n",
        "results[\"subj\"] = results[\"subject\"].apply(str)\n",
        "sns.barplot(\n",
        "    x=\"score\", y=\"subj\", hue=\"session\", data=results, orient=\"h\", palette=\"viridis\", ax=ax\n",
        ")\n",
        "plt.show()"
      ]
    }
  ],
  "metadata": {
    "kernelspec": {
      "display_name": "Python 3",
      "language": "python",
      "name": "python3"
    },
    "language_info": {
      "codemirror_mode": {
        "name": "ipython",
        "version": 3
      },
      "file_extension": ".py",
      "mimetype": "text/x-python",
      "name": "python",
      "nbconvert_exporter": "python",
      "pygments_lexer": "ipython3",
      "version": "3.9.19"
    }
  },
  "nbformat": 4,
  "nbformat_minor": 0
}
