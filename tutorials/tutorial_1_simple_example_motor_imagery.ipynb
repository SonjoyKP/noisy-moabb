{
  "cells": [
    {
      "cell_type": "code",
      "execution_count": 41,
      "metadata": {
        "collapsed": false
      },
      "outputs": [],
      "source": [
        "%matplotlib inline"
      ]
    },
    {
      "cell_type": "markdown",
      "metadata": {},
      "source": [
        "\n",
        "# Tutorial 1: Simple Motor Imagery\n",
        "\n",
        "In this example, we will go through all the steps to make a simple BCI\n",
        "classification task, downloading a dataset and using a standard classifier. We\n",
        "choose the dataset 2a from BCI Competition IV, a motor imagery task. We will\n",
        "use a CSP to enhance the signal-to-noise ratio of the EEG epochs and a LDA to\n",
        "classify these signals.\n"
      ]
    },
    {
      "cell_type": "code",
      "execution_count": 42,
      "metadata": {
        "collapsed": false
      },
      "outputs": [],
      "source": [
        "# Authors: Pedro L. C. Rodrigues, Sylvain Chevallier\n",
        "#\n",
        "# https://github.com/plcrodrigues/Workshop-MOABB-BCI-Graz-2019\n",
        "\n",
        "import warnings\n",
        "\n",
        "import matplotlib.pyplot as plt\n",
        "import pandas as pd\n",
        "import seaborn as sns\n",
        "from mne.decoding import CSP\n",
        "from sklearn.discriminant_analysis import LinearDiscriminantAnalysis as LDA\n",
        "from sklearn.pipeline import make_pipeline\n",
        "\n",
        "import moabb\n",
        "from moabb.datasets import BNCI2014_001\n",
        "from moabb.evaluations import WithinSessionEvaluation\n",
        "from moabb.paradigms import LeftRightImagery\n",
        "\n",
        "\n",
        "moabb.set_log_level(\"info\")\n",
        "warnings.filterwarnings(\"ignore\")"
      ]
    },
    {
      "cell_type": "markdown",
      "metadata": {},
      "source": [
        "## Instantiating Dataset\n",
        "\n",
        "The first thing to do is to instantiate the dataset that we want to analyze.\n",
        "MOABB has a list of many different datasets, each one containing all the\n",
        "necessary information for describing them, such as the number of subjects,\n",
        "size of trials, names of classes, etc.\n",
        "\n",
        "The dataset class has methods for:\n",
        "\n",
        "- downloading its files from some online source (e.g. Zenodo)\n",
        "- importing the data from the files in whatever extension they might be\n",
        "  (like .mat, .gdf, etc.) and instantiate a Raw object from the MNE package\n",
        "\n"
      ]
    },
    {
      "cell_type": "code",
      "execution_count": 43,
      "metadata": {
        "collapsed": false
      },
      "outputs": [],
      "source": [
        "dataset = BNCI2014_001()\n",
        "dataset.subject_list = [1, 2, 3]"
      ]
    },
    {
      "cell_type": "markdown",
      "metadata": {},
      "source": [
        "## Accessing EEG Recording\n",
        "\n",
        "As an example, we may access the EEG recording from a given session and a\n",
        "given run as follows:\n",
        "\n"
      ]
    },
    {
      "cell_type": "code",
      "execution_count": 44,
      "metadata": {
        "collapsed": false
      },
      "outputs": [],
      "source": [
        "sessions = dataset.get_data(subjects=[1])"
      ]
    },
    {
      "cell_type": "markdown",
      "metadata": {},
      "source": [
        "This returns a MNE Raw object that can be manipulated. This might be enough\n",
        "for some users, since the pre-processing and epoching steps can be easily\n",
        "done via MNE. However, to conduct an assessment of several classifiers on\n",
        "multiple subjects, MOABB ends up being a more appropriate option.\n",
        "\n"
      ]
    },
    {
      "cell_type": "code",
      "execution_count": 45,
      "metadata": {
        "collapsed": false
      },
      "outputs": [],
      "source": [
        "subject = 1\n",
        "session_name = \"0train\"\n",
        "run_name = \"0\"\n",
        "raw = sessions[subject][session_name][run_name]"
      ]
    },
    {
      "cell_type": "markdown",
      "metadata": {},
      "source": [
        "## Choosing a Paradigm\n",
        "\n",
        "Once we have instantiated a dataset, we have to choose a paradigm. This\n",
        "object is responsible for filtering the data, epoching it, and extracting\n",
        "the labels for each epoch. Note that each dataset comes with the names of\n",
        "the paradigms to which it might be associated. It would not make sense to\n",
        "process a P300 dataset with a MI paradigm object.\n",
        "\n"
      ]
    },
    {
      "cell_type": "code",
      "execution_count": 46,
      "metadata": {
        "collapsed": false
      },
      "outputs": [
        {
          "name": "stdout",
          "output_type": "stream",
          "text": [
            "imagery\n"
          ]
        }
      ],
      "source": [
        "print(dataset.paradigm)"
      ]
    },
    {
      "cell_type": "markdown",
      "metadata": {},
      "source": [
        "For the example below, we will consider the paradigm associated to\n",
        "left-hand/right-hand motor imagery task, but there are other options in\n",
        "MOABB for motor imagery, P300 or SSVEP.\n",
        "\n"
      ]
    },
    {
      "cell_type": "code",
      "execution_count": 47,
      "metadata": {
        "collapsed": false
      },
      "outputs": [],
      "source": [
        "paradigm = LeftRightImagery()"
      ]
    },
    {
      "cell_type": "markdown",
      "metadata": {},
      "source": [
        "We may check the list of all datasets available in MOABB for using with this\n",
        "paradigm (note that BNCI2014_001 is in it)\n",
        "\n"
      ]
    },
    {
      "cell_type": "code",
      "execution_count": 48,
      "metadata": {
        "collapsed": false
      },
      "outputs": [
        {
          "name": "stdout",
          "output_type": "stream",
          "text": [
            "[<moabb.datasets.bnci.BNCI2014_001 object at 0x3051c1310>, <moabb.datasets.bnci.BNCI2014_004 object at 0x3051c1610>, <moabb.datasets.gigadb.Cho2017 object at 0x3051c13a0>, <moabb.datasets.mpi_mi.GrosseWentrup2009 object at 0x3056085e0>, <moabb.datasets.Lee2019.Lee2019_MI object at 0x41107bb50>, <moabb.datasets.physionet_mi.PhysionetMI object at 0x3052bdac0>, <moabb.datasets.schirrmeister2017.Schirrmeister2017 object at 0x305c30250>, <moabb.datasets.bbci_eeg_fnirs.Shin2017A object at 0x41138b0d0>, <moabb.datasets.stieger2021.Stieger2021 object at 0x3052748b0>, <moabb.datasets.Weibo2014.Weibo2014 object at 0x3054ff610>, <moabb.datasets.Zhou2016.Zhou2016 object at 0x305274cd0>]\n"
          ]
        }
      ],
      "source": [
        "print(paradigm.datasets)"
      ]
    },
    {
      "cell_type": "markdown",
      "metadata": {},
      "source": [
        "The data from a list of subjects could be preprocessed and return as a 3D\n",
        "numpy array `X`, follow a scikit-like format with the associated `labels`.\n",
        "The `meta` object contains all information regarding the subject, the\n",
        "session and the run associated to each trial.\n",
        "\n"
      ]
    },
    {
      "cell_type": "code",
      "execution_count": 49,
      "metadata": {
        "collapsed": false
      },
      "outputs": [],
      "source": [
        "X, labels, meta = paradigm.get_data(dataset=dataset, subjects=[1])"
      ]
    },
    {
      "cell_type": "markdown",
      "metadata": {},
      "source": [
        "## Create Pipeline\n",
        "\n",
        "Our goal is to evaluate the performance of a given classification pipeline\n",
        "(or several of them) when it is applied to the epochs from the previously\n",
        "chosen dataset. We will consider a very simple classification pipeline in\n",
        "which the dimension of the epochs are reduced via a CSP step and then\n",
        "classified via a linear discriminant analysis.\n",
        "\n"
      ]
    },
    {
      "cell_type": "code",
      "execution_count": null,
      "metadata": {
        "collapsed": false
      },
      "outputs": [],
      "source": [
        "pipeline = make_pipeline(CSP(n_components=8), LDA())"
      ]
    },
    {
      "cell_type": "markdown",
      "metadata": {},
      "source": [
        "## Evaluation\n",
        "\n",
        "To evaluate the score of this pipeline, we use the `evaluation` class. When\n",
        "instantiating it, we say which paradigm we want to consider, a list with the\n",
        "datasets to analyze, and whether the scores should be recalculated each time\n",
        "we run the evaluation or if MOABB should create a cache file.\n",
        "\n",
        "Note that there are different ways of evaluating a classifier; in this\n",
        "example, we choose `WithinSessionEvaluation`, which consists of doing a\n",
        "cross-validation procedure where the training and testing partitions are from\n",
        "the same recording session of the dataset. We could have used\n",
        "`CrossSessionEvaluation`, which takes all but one session as training\n",
        "partition and the remaining one as testing partition.\n",
        "\n"
      ]
    },
    {
      "cell_type": "code",
      "execution_count": null,
      "metadata": {
        "collapsed": false
      },
      "outputs": [],
      "source": [
        "evaluation = WithinSessionEvaluation(\n",
        "    paradigm=paradigm,\n",
        "    datasets=[dataset],\n",
        "    overwrite=True,\n",
        "    hdf5_path=None,\n",
        ")"
      ]
    },
    {
      "cell_type": "markdown",
      "metadata": {},
      "source": [
        "We obtain the results in the form of a pandas dataframe\n",
        "\n"
      ]
    },
    {
      "cell_type": "code",
      "execution_count": null,
      "metadata": {
        "collapsed": false
      },
      "outputs": [],
      "source": [
        "results = evaluation.process({\"csp+lda\": pipeline})"
      ]
    },
    {
      "cell_type": "markdown",
      "metadata": {},
      "source": [
        "The results are stored in locally, to avoid recomputing the results each time.\n",
        "It is saved in `hdf5_path` if defined or in ~/mne_data/results  otherwise.\n",
        "To export the results in CSV:\n",
        "\n"
      ]
    },
    {
      "cell_type": "code",
      "execution_count": null,
      "metadata": {},
      "outputs": [],
      "source": [
        "results"
      ]
    },
    {
      "cell_type": "code",
      "execution_count": null,
      "metadata": {
        "collapsed": false
      },
      "outputs": [],
      "source": [
        "results.to_csv(\"./results_part2-1.csv\")"
      ]
    },
    {
      "cell_type": "markdown",
      "metadata": {},
      "source": [
        "To load previously obtained results saved in CSV\n",
        "\n"
      ]
    },
    {
      "cell_type": "code",
      "execution_count": null,
      "metadata": {
        "collapsed": false
      },
      "outputs": [],
      "source": [
        "results = pd.read_csv(\"./results_part2-1.csv\")"
      ]
    },
    {
      "cell_type": "markdown",
      "metadata": {},
      "source": [
        "## Plotting Results\n",
        "\n",
        "We create a figure with the seaborn package comparing the classification\n",
        "score for each subject on each session. Note that the 'subject' field from\n",
        "the `results` is given in terms of integers, but seaborn accepts only\n",
        "strings for its labeling. This is why we create the field 'subj'.\n",
        "\n"
      ]
    },
    {
      "cell_type": "code",
      "execution_count": null,
      "metadata": {
        "collapsed": false
      },
      "outputs": [],
      "source": [
        "fig, ax = plt.subplots(figsize=(8, 7))\n",
        "results[\"subj\"] = results[\"subject\"].apply(str)\n",
        "sns.barplot(\n",
        "    x=\"score\", y=\"subj\", hue=\"session\", data=results, orient=\"h\", palette=\"viridis\", ax=ax\n",
        ")\n",
        "plt.show()"
      ]
    }
  ],
  "metadata": {
    "kernelspec": {
      "display_name": "Python 3",
      "language": "python",
      "name": "python3"
    },
    "language_info": {
      "codemirror_mode": {
        "name": "ipython",
        "version": 3
      },
      "file_extension": ".py",
      "mimetype": "text/x-python",
      "name": "python",
      "nbconvert_exporter": "python",
      "pygments_lexer": "ipython3",
      "version": "3.9.19"
    }
  },
  "nbformat": 4,
  "nbformat_minor": 0
}
