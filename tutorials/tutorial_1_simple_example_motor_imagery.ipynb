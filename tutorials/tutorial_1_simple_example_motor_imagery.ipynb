{
  "cells": [
    {
      "cell_type": "code",
      "execution_count": null,
      "metadata": {
        "collapsed": false
      },
      "outputs": [],
      "source": [
        "%matplotlib inline"
      ]
    },
    {
      "cell_type": "markdown",
      "metadata": {},
      "source": [
        "\n",
        "# Tutorial 1: Simple Motor Imagery\n",
        "\n",
        "In this example, we will go through all the steps to make a simple BCI\n",
        "classification task, downloading a dataset and using a standard classifier. We\n",
        "choose the dataset 2a from BCI Competition IV, a motor imagery task. We will\n",
        "use a CSP to enhance the signal-to-noise ratio of the EEG epochs and a LDA to\n",
        "classify these signals.\n"
      ]
    },
    {
      "cell_type": "code",
      "execution_count": 1,
      "metadata": {
        "collapsed": false
      },
      "outputs": [],
      "source": [
        "# Authors: Pedro L. C. Rodrigues, Sylvain Chevallier\n",
        "#\n",
        "# https://github.com/plcrodrigues/Workshop-MOABB-BCI-Graz-2019\n",
        "\n",
        "import warnings\n",
        "\n",
        "import matplotlib.pyplot as plt\n",
        "import pandas as pd\n",
        "import seaborn as sns\n",
        "from mne.decoding import CSP\n",
        "from sklearn.discriminant_analysis import LinearDiscriminantAnalysis as LDA\n",
        "from sklearn.pipeline import make_pipeline\n",
        "\n",
        "import moabb\n",
        "from moabb.datasets import BNCI2014_001\n",
        "from moabb.evaluations import WithinSessionEvaluation\n",
        "from moabb.paradigms import LeftRightImagery\n",
        "\n",
        "\n",
        "moabb.set_log_level(\"info\")\n",
        "warnings.filterwarnings(\"ignore\")"
      ]
    },
    {
      "cell_type": "markdown",
      "metadata": {},
      "source": [
        "## Instantiating Dataset\n",
        "\n",
        "The first thing to do is to instantiate the dataset that we want to analyze.\n",
        "MOABB has a list of many different datasets, each one containing all the\n",
        "necessary information for describing them, such as the number of subjects,\n",
        "size of trials, names of classes, etc.\n",
        "\n",
        "The dataset class has methods for:\n",
        "\n",
        "- downloading its files from some online source (e.g. Zenodo)\n",
        "- importing the data from the files in whatever extension they might be\n",
        "  (like .mat, .gdf, etc.) and instantiate a Raw object from the MNE package\n",
        "\n"
      ]
    },
    {
      "cell_type": "code",
      "execution_count": 2,
      "metadata": {
        "collapsed": false
      },
      "outputs": [],
      "source": [
        "dataset = BNCI2014_001()\n",
        "#dataset.subject_list = [1, 2, 3]"
      ]
    },
    {
      "cell_type": "markdown",
      "metadata": {},
      "source": [
        "## Accessing EEG Recording\n",
        "\n",
        "As an example, we may access the EEG recording from a given session and a\n",
        "given run as follows:\n",
        "\n"
      ]
    },
    {
      "cell_type": "code",
      "execution_count": 3,
      "metadata": {
        "collapsed": false
      },
      "outputs": [
        {
          "name": "stdout",
          "output_type": "stream",
          "text": [
            "subjects, cache_config, process_pipeline: [1] None None\n",
            "Adding Noise....\n"
          ]
        }
      ],
      "source": [
        "sessions = dataset.get_data(subjects=[1], add_noise=True)"
      ]
    },
    {
      "cell_type": "markdown",
      "metadata": {},
      "source": [
        "This returns a MNE Raw object that can be manipulated. This might be enough\n",
        "for some users, since the pre-processing and epoching steps can be easily\n",
        "done via MNE. However, to conduct an assessment of several classifiers on\n",
        "multiple subjects, MOABB ends up being a more appropriate option.\n",
        "\n"
      ]
    },
    {
      "cell_type": "code",
      "execution_count": 5,
      "metadata": {
        "collapsed": false
      },
      "outputs": [
        {
          "data": {
            "text/plain": [
              "array([[ 6.48589388e-01, -6.61886097e-01, -2.00646864e-01, ...,\n",
              "         2.58801471e-01,  1.50178059e-01, -4.14085685e-01],\n",
              "       [ 2.35949176e-01,  3.34931140e-01,  5.60675519e-01, ...,\n",
              "         6.36302004e-01, -6.78344603e-01, -8.24682972e-01],\n",
              "       [ 3.45259623e-01,  8.90836674e-02,  7.44958581e-02, ...,\n",
              "        -2.63637190e-01, -5.42004208e-04,  1.15508896e-01],\n",
              "       ...,\n",
              "       [ 2.05078125e-05,  7.81250000e-06,  1.36718750e-05, ...,\n",
              "         4.58984375e-05,  3.85742188e-05,  3.95507813e-05],\n",
              "       [ 5.85937500e-06, -4.88281250e-06, -4.88281250e-07, ...,\n",
              "        -4.39453125e-06, -4.39453125e-06, -1.07421875e-05],\n",
              "       [ 0.00000000e+00,  0.00000000e+00,  0.00000000e+00, ...,\n",
              "         0.00000000e+00,  0.00000000e+00,  0.00000000e+00]])"
            ]
          },
          "execution_count": 5,
          "metadata": {},
          "output_type": "execute_result"
        }
      ],
      "source": [
        "subject = 1\n",
        "session_name = \"0train\"\n",
        "run_name = \"0\"\n",
        "raw = sessions[subject][session_name][run_name]\n",
        "raw.get_data()"
      ]
    },
    {
      "cell_type": "markdown",
      "metadata": {},
      "source": [
        "## Choosing a Paradigm\n",
        "\n",
        "Once we have instantiated a dataset, we have to choose a paradigm. This\n",
        "object is responsible for filtering the data, epoching it, and extracting\n",
        "the labels for each epoch. Note that each dataset comes with the names of\n",
        "the paradigms to which it might be associated. It would not make sense to\n",
        "process a P300 dataset with a MI paradigm object.\n",
        "\n"
      ]
    },
    {
      "cell_type": "code",
      "execution_count": null,
      "metadata": {
        "collapsed": false
      },
      "outputs": [],
      "source": [
        "print(dataset.paradigm)"
      ]
    },
    {
      "cell_type": "markdown",
      "metadata": {},
      "source": [
        "For the example below, we will consider the paradigm associated to\n",
        "left-hand/right-hand motor imagery task, but there are other options in\n",
        "MOABB for motor imagery, P300 or SSVEP.\n",
        "\n"
      ]
    },
    {
      "cell_type": "code",
      "execution_count": null,
      "metadata": {
        "collapsed": false
      },
      "outputs": [],
      "source": [
        "paradigm = LeftRightImagery()"
      ]
    },
    {
      "cell_type": "markdown",
      "metadata": {},
      "source": [
        "We may check the list of all datasets available in MOABB for using with this\n",
        "paradigm (note that BNCI2014_001 is in it)\n",
        "\n"
      ]
    },
    {
      "cell_type": "code",
      "execution_count": null,
      "metadata": {
        "collapsed": false
      },
      "outputs": [],
      "source": [
        "print(paradigm.datasets)"
      ]
    },
    {
      "cell_type": "markdown",
      "metadata": {},
      "source": [
        "The data from a list of subjects could be preprocessed and return as a 3D\n",
        "numpy array `X`, follow a scikit-like format with the associated `labels`.\n",
        "The `meta` object contains all information regarding the subject, the\n",
        "session and the run associated to each trial.\n",
        "\n"
      ]
    },
    {
      "cell_type": "code",
      "execution_count": null,
      "metadata": {
        "collapsed": false
      },
      "outputs": [],
      "source": [
        "X, labels, meta = paradigm.get_data(dataset=dataset, subjects=[1])"
      ]
    },
    {
      "cell_type": "markdown",
      "metadata": {},
      "source": [
        "## Create Pipeline\n",
        "\n",
        "Our goal is to evaluate the performance of a given classification pipeline\n",
        "(or several of them) when it is applied to the epochs from the previously\n",
        "chosen dataset. We will consider a very simple classification pipeline in\n",
        "which the dimension of the epochs are reduced via a CSP step and then\n",
        "classified via a linear discriminant analysis.\n",
        "\n"
      ]
    },
    {
      "cell_type": "code",
      "execution_count": null,
      "metadata": {
        "collapsed": false
      },
      "outputs": [],
      "source": [
        "pipeline = make_pipeline(CSP(n_components=8), LDA())"
      ]
    },
    {
      "cell_type": "markdown",
      "metadata": {},
      "source": [
        "## Evaluation\n",
        "\n",
        "To evaluate the score of this pipeline, we use the `evaluation` class. When\n",
        "instantiating it, we say which paradigm we want to consider, a list with the\n",
        "datasets to analyze, and whether the scores should be recalculated each time\n",
        "we run the evaluation or if MOABB should create a cache file.\n",
        "\n",
        "Note that there are different ways of evaluating a classifier; in this\n",
        "example, we choose `WithinSessionEvaluation`, which consists of doing a\n",
        "cross-validation procedure where the training and testing partitions are from\n",
        "the same recording session of the dataset. We could have used\n",
        "`CrossSessionEvaluation`, which takes all but one session as training\n",
        "partition and the remaining one as testing partition.\n",
        "\n"
      ]
    },
    {
      "cell_type": "code",
      "execution_count": null,
      "metadata": {
        "collapsed": false
      },
      "outputs": [],
      "source": [
        "evaluation = WithinSessionEvaluation(\n",
        "    paradigm=paradigm,\n",
        "    datasets=[dataset],\n",
        "    overwrite=True,\n",
        "    hdf5_path=None,\n",
        ")"
      ]
    },
    {
      "cell_type": "markdown",
      "metadata": {},
      "source": [
        "We obtain the results in the form of a pandas dataframe\n",
        "\n"
      ]
    },
    {
      "cell_type": "code",
      "execution_count": null,
      "metadata": {
        "collapsed": false
      },
      "outputs": [],
      "source": [
        "results = evaluation.process({\"csp+lda\": pipeline})"
      ]
    },
    {
      "cell_type": "markdown",
      "metadata": {},
      "source": [
        "The results are stored in locally, to avoid recomputing the results each time.\n",
        "It is saved in `hdf5_path` if defined or in ~/mne_data/results  otherwise.\n",
        "To export the results in CSV:\n",
        "\n"
      ]
    },
    {
      "cell_type": "code",
      "execution_count": null,
      "metadata": {},
      "outputs": [],
      "source": [
        "results"
      ]
    },
    {
      "cell_type": "code",
      "execution_count": null,
      "metadata": {
        "collapsed": false
      },
      "outputs": [],
      "source": [
        "results.to_csv(\"./results_part2-1.csv\")"
      ]
    },
    {
      "cell_type": "markdown",
      "metadata": {},
      "source": [
        "To load previously obtained results saved in CSV\n",
        "\n"
      ]
    },
    {
      "cell_type": "code",
      "execution_count": null,
      "metadata": {
        "collapsed": false
      },
      "outputs": [],
      "source": [
        "results = pd.read_csv(\"./results_part2-1.csv\")"
      ]
    },
    {
      "cell_type": "markdown",
      "metadata": {},
      "source": [
        "## Plotting Results\n",
        "\n",
        "We create a figure with the seaborn package comparing the classification\n",
        "score for each subject on each session. Note that the 'subject' field from\n",
        "the `results` is given in terms of integers, but seaborn accepts only\n",
        "strings for its labeling. This is why we create the field 'subj'.\n",
        "\n"
      ]
    },
    {
      "cell_type": "code",
      "execution_count": null,
      "metadata": {
        "collapsed": false
      },
      "outputs": [],
      "source": [
        "fig, ax = plt.subplots(figsize=(8, 7))\n",
        "results[\"subj\"] = results[\"subject\"].apply(str)\n",
        "sns.barplot(\n",
        "    x=\"score\", y=\"subj\", hue=\"session\", data=results, orient=\"h\", palette=\"viridis\", ax=ax\n",
        ")\n",
        "plt.show()"
      ]
    }
  ],
  "metadata": {
    "kernelspec": {
      "display_name": "Python 3",
      "language": "python",
      "name": "python3"
    },
    "language_info": {
      "codemirror_mode": {
        "name": "ipython",
        "version": 3
      },
      "file_extension": ".py",
      "mimetype": "text/x-python",
      "name": "python",
      "nbconvert_exporter": "python",
      "pygments_lexer": "ipython3",
      "version": "3.9.19"
    }
  },
  "nbformat": 4,
  "nbformat_minor": 0
}
